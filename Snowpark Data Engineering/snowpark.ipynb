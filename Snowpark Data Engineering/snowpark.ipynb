{
 "cells": [
  {
   "cell_type": "markdown",
   "metadata": {},
   "source": [
    "# Project Overview\n",
    "\n",
    "Perform data analysis and data preparation tasks to train a Linear Regression model to predict future ROI (Return On Investment) of variable ad spend budgets across multiple channels including search, video, social media, and email using Snowpark for Python, Snowpark ML and Streamlit. By the end of the session, you will have an interactive web application deployed visualizing the ROI of different allocated advertising spend budgets.\n",
    "\n",
    "Data Engineering -- Data Analysis and Data Preparation\n",
    "In this Notebook, we will focus on Data Engineering in Snowflake using Snowpark for Python.\n",
    "\n",
    "Establish secure connection to Snowflake\n",
    "Load data from Snowflake tables into Snowpark DataFrames\n",
    "Perform Exploratory Data Analysis on Snowpark DataFrames\n",
    "Pivot and Join data from multiple tables using Snowpark DataFrames\n",
    "Demostrate how to automate data preparation using Snowflake Tasks"
   ]
  },
  {
   "cell_type": "markdown",
   "metadata": {},
   "source": [
    "## Import libraries"
   ]
  },
  {
   "cell_type": "code",
   "execution_count": 1,
   "metadata": {
    "tags": []
   },
   "outputs": [],
   "source": [
    "# Snowpark for Python\n",
    "from snowflake.snowpark.session import Session\n",
    "from snowflake.snowpark.functions import month,year,col,sum\n",
    "from snowflake.snowpark.version import VERSION\n",
    "\n",
    "# Misc\n",
    "import json\n",
    "import os\n",
    "import logging \n",
    "logger = logging.getLogger(\"snowflake.snowpark.session\")\n",
    "logger.setLevel(logging.ERROR)"
   ]
  },
  {
   "cell_type": "markdown",
   "metadata": {},
   "source": [
    "## Establish Secure Connection to Snowflake\n",
    "\n",
    "Using the Snowpark Python API, it’s quick and easy to establish a secure connection between Snowflake and Notebook."
   ]
  },
  {
   "cell_type": "code",
   "execution_count": 2,
   "metadata": {
    "tags": []
   },
   "outputs": [
    {
     "name": "stdout",
     "output_type": "stream",
     "text": [
      "User                        : PSTYLS\n",
      "Role                        : \"ACCOUNTADMIN\"\n",
      "Database                    : \"DASH_DB\"\n",
      "Schema                      : \"DASH_SCHEMA\"\n",
      "Warehouse                   : \"DASH_L\"\n",
      "Snowflake version           : 7.25.0\n",
      "Snowpark for Python version : 1.4.0\n"
     ]
    }
   ],
   "source": [
    "# Create Snowflake Session object\n",
    "path = os.environ.get('CAS_CREDENTIALS')\n",
    "connection_parameters = json.load(open(f'{path}\\\\connection.json'))\n",
    "session = Session.builder.configs(connection_parameters).create()\n",
    "session.sql_simplifier_enabled = True\n",
    "\n",
    "snowflake_environment = session.sql('select current_user(), current_version()').collect()\n",
    "snowpark_version = VERSION\n",
    "\n",
    "# Current Environment Details\n",
    "print('User                        : {}'.format(snowflake_environment[0][0]))\n",
    "print('Role                        : {}'.format(session.get_current_role()))\n",
    "print('Database                    : {}'.format(session.get_current_database()))\n",
    "print('Schema                      : {}'.format(session.get_current_schema()))\n",
    "print('Warehouse                   : {}'.format(session.get_current_warehouse()))\n",
    "print('Snowflake version           : {}'.format(snowflake_environment[0][1]))\n",
    "print('Snowpark for Python version : {}.{}.{}'.format(snowpark_version[0],snowpark_version[1],snowpark_version[2]))"
   ]
  },
  {
   "cell_type": "code",
   "execution_count": 3,
   "metadata": {
    "tags": []
   },
   "outputs": [
    {
     "data": {
      "text/plain": [
       "snowflake.snowpark.session.Session"
      ]
     },
     "execution_count": 3,
     "metadata": {},
     "output_type": "execute_result"
    }
   ],
   "source": [
    "type(session)"
   ]
  },
  {
   "cell_type": "markdown",
   "metadata": {},
   "source": [
    "## Load Aggregated Campaign Spend Data from Snowflake table into Snowpark DataFrame\n",
    "\n",
    "Let's first load the campaign spend data. This table contains ad click data that has been aggregated to show daily spend across digital ad channels including search engines, social media, email and video.\n",
    "\n",
    "Note: Some other ways to load data in a Snowpark DataFrame\n",
    "- session.sql(\"select col1, col2... from tableName\")\n",
    "- session.read.options({\"field_delimiter\": \",\", \"skip_header\": 1}).schema(user_schema).csv(\"@mystage/testCSV.csv\")\n",
    "- session.read.parquet(\"@stageName/path/to/file\")\n",
    "- session.create_dataframe([1,2,3], schema=[\"col1\"])"
   ]
  },
  {
   "cell_type": "code",
   "execution_count": 4,
   "metadata": {
    "tags": []
   },
   "outputs": [
    {
     "data": {
      "text/plain": [
       "snowflake.snowpark.table.Table"
      ]
     },
     "metadata": {},
     "output_type": "display_data"
    },
    {
     "data": {
      "text/plain": [
       "<snowflake.snowpark.table.Table at 0x17425599e50>"
      ]
     },
     "metadata": {},
     "output_type": "display_data"
    },
    {
     "data": {
      "text/plain": [
       "{'queries': ['SELECT  *  FROM (campaign_spend)'], 'post_actions': []}"
      ]
     },
     "metadata": {},
     "output_type": "display_data"
    }
   ],
   "source": [
    "snow_df_spend = session.table('campaign_spend')\n",
    "\n",
    "display(type(snow_df_spend), snow_df_spend, snow_df_spend.queries)"
   ]
  },
  {
   "cell_type": "markdown",
   "metadata": {},
   "source": [
    "Actions like show(), collect(), count() send the DataFrame SQL for execution on the server\n",
    "\n",
    "Note: History object provides the query ID which can be helpful for debugging as well as the SQL query executed on the server."
   ]
  },
  {
   "cell_type": "code",
   "execution_count": 7,
   "metadata": {
    "tags": []
   },
   "outputs": [
    {
     "name": "stdout",
     "output_type": "stream",
     "text": [
      "------------------------------------------------------------------------------------------------------\n",
      "|\"CAMPAIGN\"              |\"CHANNEL\"      |\"DATE\"      |\"TOTAL_CLICKS\"  |\"TOTAL_COST\"  |\"ADS_SERVED\"  |\n",
      "------------------------------------------------------------------------------------------------------\n",
      "|winter_sports           |video          |2012-06-03  |213             |1762          |426           |\n",
      "|sports_across_cultures  |video          |2012-06-02  |87              |678           |157           |\n",
      "|building_community      |search_engine  |2012-06-03  |66              |471           |134           |\n",
      "|world_series            |social_media   |2017-12-28  |72              |591           |149           |\n",
      "|winter_sports           |email          |2018-02-09  |252             |1841          |473           |\n",
      "|spring_break            |video          |2017-11-14  |162             |1155          |304           |\n",
      "|nba_finals              |email          |2017-11-22  |68              |480           |134           |\n",
      "|winter_sports           |social_media   |2018-03-10  |227             |1797          |454           |\n",
      "|spring_break            |search_engine  |2017-08-30  |150             |1226          |302           |\n",
      "|uefa                    |video          |2017-09-30  |81              |701           |168           |\n",
      "------------------------------------------------------------------------------------------------------\n",
      "\n"
     ]
    },
    {
     "data": {
      "text/plain": [
       "[QueryRecord(query_id='01aded32-0c04-cefa-0003-6a9a0001700e', sql_text='SELECT  *  FROM campaign_spend LIMIT 10')]"
      ]
     },
     "execution_count": 7,
     "metadata": {},
     "output_type": "execute_result"
    }
   ],
   "source": [
    "with session.query_history() as history:\n",
    "    snow_df_spend.show()\n",
    "history.queries"
   ]
  },
  {
   "cell_type": "code",
   "execution_count": 8,
   "metadata": {
    "tags": []
   },
   "outputs": [
    {
     "name": "stdout",
     "output_type": "stream",
     "text": [
      "------------------------------------------------------------------------------------------------------\n",
      "|\"CAMPAIGN\"              |\"CHANNEL\"      |\"DATE\"      |\"TOTAL_CLICKS\"  |\"TOTAL_COST\"  |\"ADS_SERVED\"  |\n",
      "------------------------------------------------------------------------------------------------------\n",
      "|winter_sports           |video          |2012-06-03  |213             |1762          |426           |\n",
      "|sports_across_cultures  |video          |2012-06-02  |87              |678           |157           |\n",
      "|building_community      |search_engine  |2012-06-03  |66              |471           |134           |\n",
      "|world_series            |social_media   |2017-12-28  |72              |591           |149           |\n",
      "|winter_sports           |email          |2018-02-09  |252             |1841          |473           |\n",
      "|spring_break            |video          |2017-11-14  |162             |1155          |304           |\n",
      "|nba_finals              |email          |2017-11-22  |68              |480           |134           |\n",
      "|winter_sports           |social_media   |2018-03-10  |227             |1797          |454           |\n",
      "|spring_break            |search_engine  |2017-08-30  |150             |1226          |302           |\n",
      "|uefa                    |video          |2017-09-30  |81              |701           |168           |\n",
      "------------------------------------------------------------------------------------------------------\n",
      "\n"
     ]
    }
   ],
   "source": [
    "snow_df_spend.show()"
   ]
  },
  {
   "cell_type": "markdown",
   "metadata": {},
   "source": [
    "## Execute simple SQL queries using snowpark"
   ]
  },
  {
   "cell_type": "code",
   "execution_count": 9,
   "metadata": {
    "tags": []
   },
   "outputs": [
    {
     "name": "stdout",
     "output_type": "stream",
     "text": [
      "------------------------------------------------------------------------------------------------------\n",
      "|\"CAMPAIGN\"              |\"CHANNEL\"      |\"DATE\"      |\"TOTAL_CLICKS\"  |\"TOTAL_COST\"  |\"ADS_SERVED\"  |\n",
      "------------------------------------------------------------------------------------------------------\n",
      "|winter_sports           |video          |2012-06-03  |213             |1762          |426           |\n",
      "|sports_across_cultures  |video          |2012-06-02  |87              |678           |157           |\n",
      "|building_community      |search_engine  |2012-06-03  |66              |471           |134           |\n",
      "|world_series            |social_media   |2017-12-28  |72              |591           |149           |\n",
      "|winter_sports           |email          |2018-02-09  |252             |1841          |473           |\n",
      "|spring_break            |video          |2017-11-14  |162             |1155          |304           |\n",
      "|nba_finals              |email          |2017-11-22  |68              |480           |134           |\n",
      "|winter_sports           |social_media   |2018-03-10  |227             |1797          |454           |\n",
      "|spring_break            |search_engine  |2017-08-30  |150             |1226          |302           |\n",
      "|uefa                    |video          |2017-09-30  |81              |701           |168           |\n",
      "------------------------------------------------------------------------------------------------------\n",
      "\n"
     ]
    }
   ],
   "source": [
    "myQuery = \"\"\"\n",
    "SELECT * \n",
    "FROM campaign_spend \n",
    "LIMIT 10\n",
    "\"\"\"\n",
    "session.sql(myQuery).show()"
   ]
  },
  {
   "cell_type": "code",
   "execution_count": 10,
   "metadata": {
    "tags": []
   },
   "outputs": [
    {
     "name": "stdout",
     "output_type": "stream",
     "text": [
      "--------------\n",
      "|\"COUNT(*)\"  |\n",
      "--------------\n",
      "|293120      |\n",
      "--------------\n",
      "\n"
     ]
    }
   ],
   "source": [
    "totalRows = \"\"\"\n",
    "SELECT count(*) \n",
    "FROM campaign_spend \n",
    "\"\"\"\n",
    "session.sql(totalRows).show()"
   ]
  },
  {
   "cell_type": "code",
   "execution_count": 11,
   "metadata": {
    "tags": []
   },
   "outputs": [
    {
     "data": {
      "text/plain": [
       "293120"
      ]
     },
     "execution_count": 11,
     "metadata": {},
     "output_type": "execute_result"
    }
   ],
   "source": [
    "snow_df_spend.count()"
   ]
  },
  {
   "cell_type": "markdown",
   "metadata": {},
   "source": [
    "## Total Spend per Year and Month For All Channels\n",
    "\n",
    "Let's transform the data so we can see total cost per year/month per channel using group_by() and agg() Snowpark DataFrame functions.\n",
    "\n",
    "TIP: For a full list of functions, refer to the [documentation](https://docs.snowflake.com/developer-guide/snowpark/reference/python/latest/index)."
   ]
  },
  {
   "cell_type": "code",
   "execution_count": 13,
   "metadata": {
    "tags": []
   },
   "outputs": [
    {
     "name": "stdout",
     "output_type": "stream",
     "text": [
      "---------------------------------------------------\n",
      "|\"YEAR\"  |\"MONTH\"  |\"CHANNEL\"      |\"TOTAL_COST\"  |\n",
      "---------------------------------------------------\n",
      "|2012    |5        |email          |517208        |\n",
      "|2012    |5        |search_engine  |516431        |\n",
      "|2012    |5        |social_media   |517618        |\n",
      "|2012    |5        |video          |516729        |\n",
      "|2012    |6        |email          |501947        |\n",
      "|2012    |6        |search_engine  |506497        |\n",
      "|2012    |6        |social_media   |504679        |\n",
      "|2012    |6        |video          |501098        |\n",
      "|2012    |7        |email          |518405        |\n",
      "|2012    |7        |search_engine  |522780        |\n",
      "---------------------------------------------------\n",
      "\n"
     ]
    },
    {
     "data": {
      "text/plain": [
       "snowflake.snowpark.dataframe.DataFrame"
      ]
     },
     "metadata": {},
     "output_type": "display_data"
    },
    {
     "data": {
      "text/plain": [
       "{'queries': ['SELECT  *  FROM ( SELECT \"YEAR(DATE)\" AS \"YEAR\", \"MONTH(DATE)\" AS \"MONTH\", \"CHANNEL\", \"TOTAL_COST\" FROM ( SELECT year(\"DATE\") AS \"YEAR(DATE)\", month(\"DATE\") AS \"MONTH(DATE)\", \"CHANNEL\", sum(\"TOTAL_COST\") AS \"TOTAL_COST\" FROM ( SELECT  *  FROM campaign_spend) GROUP BY year(\"DATE\"), month(\"DATE\"), \"CHANNEL\")) ORDER BY \"YEAR\" ASC NULLS FIRST, \"MONTH\" ASC NULLS FIRST, \"CHANNEL\" ASC NULLS FIRST'],\n",
       " 'post_actions': []}"
      ]
     },
     "metadata": {},
     "output_type": "display_data"
    },
    {
     "data": {
      "text/plain": [
       "None"
      ]
     },
     "metadata": {},
     "output_type": "display_data"
    }
   ],
   "source": [
    "snow_df_spend_per_channel = (\n",
    "    snow_df_spend\n",
    "    .group_by(year('DATE'), \n",
    "              month('DATE'), \n",
    "              'CHANNEL')\n",
    "    .agg(sum('TOTAL_COST').as_('TOTAL_COST'))\n",
    "    .with_column_renamed('\"YEAR(DATE)\"', \"YEAR\")\n",
    "    .with_column_renamed('\"MONTH(DATE)\"',\"MONTH\")\n",
    "    .sort('YEAR','MONTH', 'CHANNEL')\n",
    ")\n",
    "\n",
    "display(type(snow_df_spend_per_channel), \n",
    "        snow_df_spend_per_channel.queries,\n",
    "        snow_df_spend_per_channel.show())"
   ]
  },
  {
   "cell_type": "code",
   "execution_count": 14,
   "metadata": {
    "tags": []
   },
   "outputs": [
    {
     "name": "stdout",
     "output_type": "stream",
     "text": [
      "---------------------------------------------------\n",
      "|\"YEAR\"  |\"MONTH\"  |\"CHANNEL\"      |\"TOTAL_COST\"  |\n",
      "---------------------------------------------------\n",
      "|2012    |5        |email          |517208        |\n",
      "|2012    |5        |search_engine  |516431        |\n",
      "|2012    |5        |social_media   |517618        |\n",
      "|2012    |5        |video          |516729        |\n",
      "|2012    |6        |email          |501947        |\n",
      "|2012    |6        |search_engine  |506497        |\n",
      "|2012    |6        |social_media   |504679        |\n",
      "|2012    |6        |video          |501098        |\n",
      "|2012    |7        |email          |518405        |\n",
      "|2012    |7        |search_engine  |522780        |\n",
      "---------------------------------------------------\n",
      "\n"
     ]
    }
   ],
   "source": [
    "myQuery = \"\"\"\n",
    "SELECT \n",
    "    year(DATE) as YEAR,\n",
    "    month(DATE) as MONTH,\n",
    "    CHANNEL,\n",
    "    sum(TOTAL_COST) as TOTAL_COST\n",
    "FROM campaign_spend \n",
    "GROUP BY YEAR, MONTH, CHANNEL\n",
    "ORDER BY YEAR,MONTH,CHANNEL\n",
    "\"\"\"\n",
    "session.sql(myQuery).show()"
   ]
  },
  {
   "cell_type": "markdown",
   "metadata": {},
   "source": [
    "## Pivot on Channel: Total Spend Across All Channels\n",
    "\n",
    "Let's further transform the campaign spend data so that **each row will represent total cost across all channels** per year/month using pivot() and sum() Snowpark DataFrame functions. This transformation will enable us to join with the revenue table such that we will have our input features and target variable in a single table for model training."
   ]
  },
  {
   "cell_type": "code",
   "execution_count": 18,
   "metadata": {
    "tags": []
   },
   "outputs": [
    {
     "name": "stdout",
     "output_type": "stream",
     "text": [
      "------------------------------------------------------------------------------------------------------\n",
      "|\"CAMPAIGN\"              |\"CHANNEL\"      |\"DATE\"      |\"TOTAL_CLICKS\"  |\"TOTAL_COST\"  |\"ADS_SERVED\"  |\n",
      "------------------------------------------------------------------------------------------------------\n",
      "|winter_sports           |video          |2012-06-03  |213             |1762          |426           |\n",
      "|sports_across_cultures  |video          |2012-06-02  |87              |678           |157           |\n",
      "|building_community      |search_engine  |2012-06-03  |66              |471           |134           |\n",
      "|world_series            |social_media   |2017-12-28  |72              |591           |149           |\n",
      "|winter_sports           |email          |2018-02-09  |252             |1841          |473           |\n",
      "|spring_break            |video          |2017-11-14  |162             |1155          |304           |\n",
      "|nba_finals              |email          |2017-11-22  |68              |480           |134           |\n",
      "|winter_sports           |social_media   |2018-03-10  |227             |1797          |454           |\n",
      "|spring_break            |search_engine  |2017-08-30  |150             |1226          |302           |\n",
      "|uefa                    |video          |2017-09-30  |81              |701           |168           |\n",
      "------------------------------------------------------------------------------------------------------\n",
      "\n",
      "---------------------------------------------------\n",
      "|\"YEAR\"  |\"MONTH\"  |\"CHANNEL\"      |\"TOTAL_COST\"  |\n",
      "---------------------------------------------------\n",
      "|2012    |5        |email          |517208        |\n",
      "|2012    |5        |search_engine  |516431        |\n",
      "|2012    |5        |social_media   |517618        |\n",
      "|2012    |5        |video          |516729        |\n",
      "|2012    |6        |email          |501947        |\n",
      "|2012    |6        |search_engine  |506497        |\n",
      "|2012    |6        |social_media   |504679        |\n",
      "|2012    |6        |video          |501098        |\n",
      "|2012    |7        |email          |518405        |\n",
      "|2012    |7        |search_engine  |522780        |\n",
      "---------------------------------------------------\n",
      "\n"
     ]
    },
    {
     "data": {
      "text/plain": [
       "None"
      ]
     },
     "metadata": {},
     "output_type": "display_data"
    },
    {
     "data": {
      "text/plain": [
       "None"
      ]
     },
     "metadata": {},
     "output_type": "display_data"
    }
   ],
   "source": [
    "display(snow_df_spend.show(),                  ## Original table\n",
    "        snow_df_spend_per_channel.show())      ## Aggregated query on original table"
   ]
  },
  {
   "cell_type": "code",
   "execution_count": 21,
   "metadata": {
    "tags": []
   },
   "outputs": [
    {
     "name": "stdout",
     "output_type": "stream",
     "text": [
      "-----------------------------------------------------------------------------------\n",
      "|\"YEAR\"  |\"MONTH\"  |\"'search_engine'\"  |\"'social_media'\"  |\"'video'\"  |\"'email'\"  |\n",
      "-----------------------------------------------------------------------------------\n",
      "|2012    |5        |516431             |517618            |516729     |517208     |\n",
      "|2012    |6        |506497             |504679            |501098     |501947     |\n",
      "|2012    |7        |522780             |521395            |522762     |518405     |\n",
      "|2012    |8        |519959             |520537            |520685     |521584     |\n",
      "|2012    |9        |507211             |507404            |511364     |507363     |\n",
      "|2012    |10       |518942             |520863            |522768     |519950     |\n",
      "|2012    |11       |505715             |505221            |505292     |503748     |\n",
      "|2012    |12       |520148             |520711            |521427     |520724     |\n",
      "|2013    |1        |522151             |518635            |520583     |521167     |\n",
      "|2013    |2        |467736             |474679            |469856     |469784     |\n",
      "-----------------------------------------------------------------------------------\n",
      "\n"
     ]
    }
   ],
   "source": [
    "snow_df_spend_per_month = (\n",
    "    snow_df_spend_per_channel\n",
    "    .pivot('CHANNEL',['search_engine','social_media','video','email'])\n",
    "    .sum('TOTAL_COST')\n",
    "    .sort('YEAR','MONTH')\n",
    ")\n",
    "\n",
    "snow_df_spend_per_month.show()"
   ]
  },
  {
   "cell_type": "code",
   "execution_count": 22,
   "metadata": {
    "tags": []
   },
   "outputs": [
    {
     "name": "stdout",
     "output_type": "stream",
     "text": [
      "---------------------------------------------------------------------------\n",
      "|\"YEAR\"  |\"MONTH\"  |\"SEARCH_ENGINE\"  |\"SOCIAL_MEDIA\"  |\"VIDEO\"  |\"EMAIL\"  |\n",
      "---------------------------------------------------------------------------\n",
      "|2012    |5        |516431           |517618          |516729   |517208   |\n",
      "|2012    |6        |506497           |504679          |501098   |501947   |\n",
      "|2012    |7        |522780           |521395          |522762   |518405   |\n",
      "|2012    |8        |519959           |520537          |520685   |521584   |\n",
      "|2012    |9        |507211           |507404          |511364   |507363   |\n",
      "|2012    |10       |518942           |520863          |522768   |519950   |\n",
      "|2012    |11       |505715           |505221          |505292   |503748   |\n",
      "|2012    |12       |520148           |520711          |521427   |520724   |\n",
      "|2013    |1        |522151           |518635          |520583   |521167   |\n",
      "|2013    |2        |467736           |474679          |469856   |469784   |\n",
      "---------------------------------------------------------------------------\n",
      "\n"
     ]
    }
   ],
   "source": [
    "## Clean up the column names\n",
    "snow_df_spend_per_month = (\n",
    "    snow_df_spend_per_month\n",
    "    .select(\n",
    "        col('YEAR'),\n",
    "        col('MONTH'),\n",
    "        col(\"'search_engine'\").as_(\"SEARCH_ENGINE\"),\n",
    "        col(\"'social_media'\").as_(\"SOCIAL_MEDIA\"),\n",
    "        col(\"'video'\").as_(\"VIDEO\"),\n",
    "        col(\"'email'\").as_(\"EMAIL\")\n",
    "    )\n",
    ")\n",
    "\n",
    "snow_df_spend_per_month.show()"
   ]
  },
  {
   "cell_type": "markdown",
   "metadata": {},
   "source": [
    "## Save Transformed Data into Snowflake Table\n",
    "\n",
    "Let's save the transformed data into a Snowflake table SPEND_PER_MONTH."
   ]
  },
  {
   "cell_type": "code",
   "execution_count": 23,
   "metadata": {
    "tags": []
   },
   "outputs": [
    {
     "name": "stdout",
     "output_type": "stream",
     "text": [
      "-----------------------------------------------------------------------------------------------------------------------------------------------------------------------------------------------------------------------------------------------------------------------------\n",
      "|\"created_on\"                      |\"name\"                      |\"database_name\"  |\"schema_name\"  |\"kind\"  |\"comment\"  |\"cluster_by\"  |\"rows\"  |\"bytes\"  |\"owner\"       |\"retention_time\"  |\"automatic_clustering\"  |\"change_tracking\"  |\"is_external\"  |\"owner_role_type\"  |\n",
      "-----------------------------------------------------------------------------------------------------------------------------------------------------------------------------------------------------------------------------------------------------------------------------\n",
      "|2023-07-25 05:16:05.081000-07:00  |BUDGET_ALLOCATIONS_AND_ROI  |DASH_DB          |DASH_SCHEMA    |TABLE   |           |              |6       |2560     |ACCOUNTADMIN  |1                 |OFF                     |OFF                |N              |ROLE               |\n",
      "|2023-07-25 05:15:38.246000-07:00  |CAMPAIGN_SPEND              |DASH_DB          |DASH_SCHEMA    |TABLE   |           |              |293120  |1728512  |ACCOUNTADMIN  |1                 |OFF                     |OFF                |N              |ROLE               |\n",
      "|2023-07-25 05:15:51.348000-07:00  |MONTHLY_REVENUE             |DASH_DB          |DASH_SCHEMA    |TABLE   |           |              |121     |2560     |ACCOUNTADMIN  |1                 |OFF                     |OFF                |N              |ROLE               |\n",
      "|2023-07-25 06:26:57.446000-07:00  |SPEND_PER_MONTH             |DASH_DB          |DASH_SCHEMA    |TABLE   |           |              |121     |3584     |ACCOUNTADMIN  |1                 |OFF                     |OFF                |N              |ROLE               |\n",
      "-----------------------------------------------------------------------------------------------------------------------------------------------------------------------------------------------------------------------------------------------------------------------------\n",
      "\n"
     ]
    }
   ],
   "source": [
    "session.sql('SHOW TABLES').show()"
   ]
  },
  {
   "cell_type": "code",
   "execution_count": 29,
   "metadata": {
    "tags": []
   },
   "outputs": [],
   "source": [
    "(snow_df_spend_per_month\n",
    " .write\n",
    " .mode('overwrite')\n",
    " .save_as_table('SPEND_PER_MONTH')\n",
    ")"
   ]
  },
  {
   "cell_type": "code",
   "execution_count": 30,
   "metadata": {
    "tags": []
   },
   "outputs": [
    {
     "name": "stdout",
     "output_type": "stream",
     "text": [
      "-----------------------------------------------------------------------------------------------------------------------------------------------------------------------------------------------------------------------------------------------------------------------------\n",
      "|\"created_on\"                      |\"name\"                      |\"database_name\"  |\"schema_name\"  |\"kind\"  |\"comment\"  |\"cluster_by\"  |\"rows\"  |\"bytes\"  |\"owner\"       |\"retention_time\"  |\"automatic_clustering\"  |\"change_tracking\"  |\"is_external\"  |\"owner_role_type\"  |\n",
      "-----------------------------------------------------------------------------------------------------------------------------------------------------------------------------------------------------------------------------------------------------------------------------\n",
      "|2023-07-25 05:16:05.081000-07:00  |BUDGET_ALLOCATIONS_AND_ROI  |DASH_DB          |DASH_SCHEMA    |TABLE   |           |              |6       |2560     |ACCOUNTADMIN  |1                 |OFF                     |OFF                |N              |ROLE               |\n",
      "|2023-07-25 05:15:38.246000-07:00  |CAMPAIGN_SPEND              |DASH_DB          |DASH_SCHEMA    |TABLE   |           |              |293120  |1728512  |ACCOUNTADMIN  |1                 |OFF                     |OFF                |N              |ROLE               |\n",
      "|2023-07-25 05:15:51.348000-07:00  |MONTHLY_REVENUE             |DASH_DB          |DASH_SCHEMA    |TABLE   |           |              |121     |2560     |ACCOUNTADMIN  |1                 |OFF                     |OFF                |N              |ROLE               |\n",
      "|2023-07-28 03:36:35.179000-07:00  |SPEND_PER_MONTH             |DASH_DB          |DASH_SCHEMA    |TABLE   |           |              |121     |3584     |ACCOUNTADMIN  |1                 |OFF                     |OFF                |N              |ROLE               |\n",
      "-----------------------------------------------------------------------------------------------------------------------------------------------------------------------------------------------------------------------------------------------------------------------------\n",
      "\n"
     ]
    }
   ],
   "source": [
    "session.sql('SHOW TABLES').show()"
   ]
  },
  {
   "cell_type": "markdown",
   "metadata": {},
   "source": [
    "## Data Pipelines\n",
    "\n",
    "You can also operationalize the data transformations in the form of automated data pipelines running in Snowflake.\n",
    "\n",
    "### Root/parent Task\n",
    "This task automates loading campain spend data and performing various transformations.\n",
    "\n",
    "#### First start by getting the query to work"
   ]
  },
  {
   "cell_type": "code",
   "execution_count": 155,
   "metadata": {
    "tags": []
   },
   "outputs": [],
   "source": [
    "## Specify the group by columns\n",
    "groups_cols = [year(\"DATE\"), month(\"DATE\"), \"CHANNEL\"]\n",
    "\n",
    "## Specify how to sort the results\n",
    "sort_cols = [\"YEAR\",\"MONTH\"]\n",
    "\n",
    "## Get the distinct values of the CHANNEL column as a list\n",
    "distinct_values = (\n",
    "    campaign_spend_tbl\n",
    "    .select(\"CHANNEL\")    ## Select the Snowflake tbl column\n",
    "    .distinct()           ## Get distinct values of the column\n",
    "    .to_pandas()          ## Convert the results from snowflake to local dataframe\n",
    "    .CHANNEL              ## Select the single column of the dataframe\n",
    "    .to_list()            ## Make a list to use in the query\n",
    ")\n",
    "\n",
    "##\n",
    "## Create the new SQL table\n",
    "##\n",
    "campaign_spend_per_date_channel = (\n",
    "    campaign_spend_tbl\n",
    "## Group by Date and channel and agg total_cost\n",
    "    .groupBy(groups)\n",
    "    .agg(sum(\"TOTAL_COST\"))\n",
    "    .with_column_renamed(col(\"YEAR(DATE)\"), \"YEAR\")\n",
    "    .with_column_renamed(col(\"MONTH(DATE)\"), \"MONTH\")\n",
    "    .with_column_renamed(col(\"SUM(TOTAL_COST)\"), \"TOTAL_COST\")\n",
    "## Pivot the result table\n",
    "    .pivot(\"CHANNEL\",distinct_values)\n",
    "    .sum(\"TOTAL_COST\")\n",
    "## Rename columns in the table\n",
    "    .select(\n",
    "        col(\"YEAR\"),\n",
    "        col(\"MONTH\"),\n",
    "        col(\"'search_engine'\").as_(\"SEARCH_ENGINE\"),\n",
    "        col(\"'social_media'\").as_(\"SOCIAL_MEDIA\"),\n",
    "        col(\"'video'\").as_(\"VIDEO\"),\n",
    "        col(\"'email'\").as_(\"EMAIL\")\n",
    "    )\n",
    "    .write.mode('overwrite').save_as_table('SPEND_PER_MONTH')\n",
    ")"
   ]
  },
  {
   "cell_type": "markdown",
   "metadata": {},
   "source": [
    "#### Add the query to a function and save it as a stored proc"
   ]
  },
  {
   "cell_type": "code",
   "execution_count": 140,
   "metadata": {
    "tags": []
   },
   "outputs": [
    {
     "data": {
      "text/plain": [
       "[Row(status='Task CAMPAIGN_SPEND_DATA_PIPELINE_TASK successfully created.')]"
      ]
     },
     "execution_count": 140,
     "metadata": {},
     "output_type": "execute_result"
    }
   ],
   "source": [
    "def campaign_spend_data_pipeline(session: Session) -> str:\n",
    "    '''\n",
    "    DATA TRANSFORMATION FOR SNOWFLAKE\n",
    "    1. Use the campaign_spend table\n",
    "    2. Aggregate total_cost by Year/Month/Channel\n",
    "    3. Pivot the aggregated table by each channel\n",
    "    4. Save the final pivoted table \n",
    "    '''\n",
    "    \n",
    "    ##\n",
    "    ## LOAD THE CAMPAIGN_SPEND TABLE\n",
    "    ##\n",
    "    campaign_spend_tbl = session.table('campaign_spend')\n",
    "    \n",
    "    \n",
    "    ##\n",
    "    ## CREATE NEW SQL TABLE\n",
    "    ##\n",
    "    \n",
    "    ## Specify the group by columns\n",
    "    groups_cols = [year(\"DATE\"), month(\"DATE\"), \"CHANNEL\"]\n",
    "\n",
    "    ## Specify how to sort the results\n",
    "    sort_cols = [\"YEAR\",\"MONTH\"]\n",
    "\n",
    "    ## Get the distinct values of the CHANNEL column as a list\n",
    "    distinct_values = (\n",
    "        campaign_spend_tbl\n",
    "        .select(\"CHANNEL\")    ## Select the Snowflake tbl column\n",
    "        .distinct()           ## Get distinct values of the column\n",
    "        .to_pandas()          ## Convert the results from snowflake to local dataframe\n",
    "        .CHANNEL              ## Select the single column of the dataframe\n",
    "        .to_list()            ## Make a list to use in the query\n",
    "    )\n",
    "\n",
    "    ## Create the new SQL table   \n",
    "    campaign_spend_per_date_channel = (\n",
    "        campaign_spend_tbl\n",
    "    ## Group by Date and channel and agg total_cost\n",
    "        .groupBy(groups)\n",
    "        .agg(sum(\"TOTAL_COST\"))\n",
    "        .with_column_renamed(col(\"YEAR(DATE)\"), \"YEAR\")\n",
    "        .with_column_renamed(col(\"MONTH(DATE)\"), \"MONTH\")\n",
    "        .with_column_renamed(col(\"SUM(TOTAL_COST)\"), \"TOTAL_COST\")\n",
    "    ## Pivot the result table\n",
    "        .pivot(\"CHANNEL\",distinct_values)\n",
    "        .sum(\"TOTAL_COST\")\n",
    "    ## Rename columns in the table\n",
    "        .select(\n",
    "            col(\"YEAR\"),\n",
    "            col(\"MONTH\"),\n",
    "            col(\"'search_engine'\").as_(\"SEARCH_ENGINE\"),\n",
    "            col(\"'social_media'\").as_(\"SOCIAL_MEDIA\"),\n",
    "            col(\"'video'\").as_(\"VIDEO\"),\n",
    "            col(\"'email'\").as_(\"EMAIL\")\n",
    "        )\n",
    "        .write.mode('overwrite').save_as_table('SPEND_PER_MONTH')\n",
    "    )\n",
    "    \n",
    "\n",
    "##\n",
    "## Register data pipeline function as a stored proc in Snowflake to run it as a task\n",
    "##\n",
    "session.sproc.register(\n",
    "        func = campaign_spend_data_pipeline,\n",
    "        name = \"campaign_spend_data_pipeline\",\n",
    "        packages = ['snowflake-snowpark-python','pandas'],\n",
    "        is_permanent=True,\n",
    "        stage_location = \"@dash_sprocs\",\n",
    "        replace = True\n",
    "    )\n",
    "    \n",
    "##\n",
    "## RUN STORED PROC\n",
    "##\n",
    "campaign_spend_data_pipeline_task = \"\"\"\n",
    "        CREATE OR REPLACE TASK campaign_spend_data_pipeline_task\n",
    "            WAREHOUSE = 'DASH_L'\n",
    "            SCHEDULE = '5 MINUTE'\n",
    "        AS\n",
    "            CALL campaign_spend_data_pipeline()\n",
    "    \"\"\"\n",
    "    \n",
    "session.sql(campaign_spend_data_pipeline_task).collect()"
   ]
  },
  {
   "cell_type": "code",
   "execution_count": 172,
   "metadata": {
    "tags": []
   },
   "outputs": [
    {
     "name": "stdout",
     "output_type": "stream",
     "text": [
      "-----------------------------------------------------------------------------------------------------------------------------------------------------------------------------------------------------------------------------------------------------------------------------\n",
      "|\"created_on\"                      |\"name\"                      |\"database_name\"  |\"schema_name\"  |\"kind\"  |\"comment\"  |\"cluster_by\"  |\"rows\"  |\"bytes\"  |\"owner\"       |\"retention_time\"  |\"automatic_clustering\"  |\"change_tracking\"  |\"is_external\"  |\"owner_role_type\"  |\n",
      "-----------------------------------------------------------------------------------------------------------------------------------------------------------------------------------------------------------------------------------------------------------------------------\n",
      "|2023-07-25 05:16:05.081000-07:00  |BUDGET_ALLOCATIONS_AND_ROI  |DASH_DB          |DASH_SCHEMA    |TABLE   |           |              |6       |2560     |ACCOUNTADMIN  |1                 |OFF                     |OFF                |N              |ROLE               |\n",
      "|2023-07-25 05:15:38.246000-07:00  |CAMPAIGN_SPEND              |DASH_DB          |DASH_SCHEMA    |TABLE   |           |              |293120  |1728512  |ACCOUNTADMIN  |1                 |OFF                     |OFF                |N              |ROLE               |\n",
      "|2023-07-25 05:15:51.348000-07:00  |MONTHLY_REVENUE             |DASH_DB          |DASH_SCHEMA    |TABLE   |           |              |121     |2560     |ACCOUNTADMIN  |1                 |OFF                     |OFF                |N              |ROLE               |\n",
      "|2023-07-28 06:47:23.029000-07:00  |SPEND_PER_MONTH             |DASH_DB          |DASH_SCHEMA    |TABLE   |           |              |121     |3584     |ACCOUNTADMIN  |1                 |OFF                     |OFF                |N              |ROLE               |\n",
      "-----------------------------------------------------------------------------------------------------------------------------------------------------------------------------------------------------------------------------------------------------------------------------\n",
      "\n"
     ]
    }
   ],
   "source": [
    "session.sql(\"SHOW TABLES\").show()"
   ]
  },
  {
   "cell_type": "markdown",
   "metadata": {},
   "source": [
    "#### Start and suspend a stored procedure"
   ]
  },
  {
   "cell_type": "code",
   "execution_count": 151,
   "metadata": {
    "tags": []
   },
   "outputs": [
    {
     "data": {
      "text/plain": [
       "[Row(status='Statement executed successfully.')]"
      ]
     },
     "execution_count": 151,
     "metadata": {},
     "output_type": "execute_result"
    }
   ],
   "source": [
    "session.sql(\"alter task campaign_spend_data_pipeline_task resume\").collect()\n",
    "# session.sql(\"alter task campaign_spend_data_pipeline_task suspend\").collect()"
   ]
  },
  {
   "cell_type": "markdown",
   "metadata": {
    "tags": []
   },
   "source": [
    "### Child/dependant Task\n",
    "This task automates loading monthly revenue data, performing various transformations, and joining it with transformed campaign spend data.\n",
    "\n",
    "#### Start by getting the query to work"
   ]
  },
  {
   "cell_type": "code",
   "execution_count": 145,
   "metadata": {
    "tags": []
   },
   "outputs": [
    {
     "name": "stdout",
     "output_type": "stream",
     "text": [
      "---------------------------------\n",
      "|\"YEAR\"  |\"MONTH\"  |\"REVENUE\"   |\n",
      "---------------------------------\n",
      "|2012    |5        |3264300.11  |\n",
      "|2012    |6        |3208482.33  |\n",
      "|2012    |7        |3311966.98  |\n",
      "|2012    |8        |3311752.81  |\n",
      "|2012    |9        |3208563.06  |\n",
      "---------------------------------\n",
      "\n"
     ]
    },
    {
     "data": {
      "text/plain": [
       "snowflake.snowpark.table.Table"
      ]
     },
     "metadata": {},
     "output_type": "display_data"
    },
    {
     "data": {
      "text/plain": [
       "None"
      ]
     },
     "metadata": {},
     "output_type": "display_data"
    }
   ],
   "source": [
    "snow_df_revenue = session.table('monthly_revenue')\n",
    "display(type(snow_df_revenue), snow_df_revenue.show(5))"
   ]
  },
  {
   "cell_type": "code",
   "execution_count": 175,
   "metadata": {
    "tags": []
   },
   "outputs": [
    {
     "name": "stdout",
     "output_type": "stream",
     "text": [
      "---------------------------------\n",
      "|\"YEAR\"  |\"MONTH\"  |\"REVENUE\"   |\n",
      "---------------------------------\n",
      "|2012    |5        |3264300.11  |\n",
      "|2012    |6        |3208482.33  |\n",
      "|2012    |7        |3311966.98  |\n",
      "|2012    |8        |3311752.81  |\n",
      "|2012    |9        |3208563.06  |\n",
      "|2012    |10       |3334028.46  |\n",
      "|2013    |2        |2995042.21  |\n",
      "|2013    |3        |3310662.6   |\n",
      "|2013    |5        |3314107.1   |\n",
      "|2013    |6        |3209691.3   |\n",
      "---------------------------------\n",
      "\n",
      "---------------------------------------------------------------------------\n",
      "|\"YEAR\"  |\"MONTH\"  |\"SEARCH_ENGINE\"  |\"SOCIAL_MEDIA\"  |\"VIDEO\"  |\"EMAIL\"  |\n",
      "---------------------------------------------------------------------------\n",
      "|2012    |6        |506497           |504679          |501098   |501947   |\n",
      "|2017    |12       |523302           |520194          |521552   |524296   |\n",
      "|2017    |11       |505149           |502322          |504099   |501490   |\n",
      "|2018    |3        |519889           |518499          |521048   |520131   |\n",
      "|2017    |9        |502610           |505287          |504050   |503095   |\n",
      "|2018    |1        |521495           |521804          |521094   |521042   |\n",
      "|2012    |5        |516431           |517618          |516729   |517208   |\n",
      "|2016    |9        |503689           |503251          |504799   |503916   |\n",
      "|2016    |12       |518853           |520562          |521726   |520667   |\n",
      "|2016    |10       |522176           |521874          |521681   |519504   |\n",
      "---------------------------------------------------------------------------\n",
      "\n"
     ]
    },
    {
     "data": {
      "text/plain": [
       "<snowflake.snowpark.dataframe.DataFrame at 0x1742c624220>"
      ]
     },
     "execution_count": 175,
     "metadata": {},
     "output_type": "execute_result"
    }
   ],
   "source": [
    "## Reference the table\n",
    "snow_df_revenue = session.table('monthly_revenue')\n",
    "\n",
    "## Specify the group by columns\n",
    "groups_cols = [\"YEAR\",\"MONTH\"]\n",
    "\n",
    "## Specify join table\n",
    "campaign_spend_per_month = session.table('SPEND_PER_MONTH')\n",
    "\n",
    "revenue_by_month_tbl = (\n",
    "    snow_df_revenue\n",
    "    .group_by(groups_cols)\n",
    "    .agg(sum(\"REVENUE\"))\n",
    "    .rename(\"SUM(REVENUE)\",\"REVENUE\")\n",
    ")\n",
    "\n",
    "revenue_by_month_tbl.show()\n",
    "campaign_spend_per_month.show()\n",
    "\n",
    "(revenue_by_month_tbl\n",
    " .join(campaign_spend_per_month,[\"YEAR\",\"MONTH\"])\n",
    ")\n",
    "\n",
    "## END AT 36"
   ]
  },
  {
   "cell_type": "code",
   "execution_count": null,
   "metadata": {},
   "outputs": [],
   "source": []
  }
 ],
 "metadata": {
  "kernelspec": {
   "display_name": "Python 3 (ipykernel)",
   "language": "python",
   "name": "python3"
  },
  "language_info": {
   "codemirror_mode": {
    "name": "ipython",
    "version": 3
   },
   "file_extension": ".py",
   "mimetype": "text/x-python",
   "name": "python",
   "nbconvert_exporter": "python",
   "pygments_lexer": "ipython3",
   "version": "3.8.16"
  }
 },
 "nbformat": 4,
 "nbformat_minor": 4
}
