{
 "cells": [
  {
   "cell_type": "markdown",
   "id": "093a3d2b-d034-4ba2-9363-b1a1ea3089f5",
   "metadata": {},
   "source": [
    "# Using ILIKE to Select Columns"
   ]
  },
  {
   "cell_type": "code",
   "execution_count": 3,
   "id": "85aeec0c-91d1-4a0c-9faf-7144021667d3",
   "metadata": {
    "tags": []
   },
   "outputs": [],
   "source": [
    "import os\n",
    "import json\n",
    "\n",
    "from snowflake.snowpark.session import Session\n",
    "\n",
    "\n",
    "## Connection information\n",
    "path = os.environ.get('CAS_CREDENTIALS')\n",
    "connection_parameters = json.load(open(f'{path}\\\\connection.json'))\n",
    "\n",
    "# Create Snowflake Session object\n",
    "session = Session.builder.configs(connection_parameters).create()"
   ]
  },
  {
   "cell_type": "markdown",
   "id": "68fbfc23-51f1-4093-87ac-39bcd5896b5c",
   "metadata": {},
   "source": [
    "## Select all rows"
   ]
  },
  {
   "cell_type": "code",
   "execution_count": 8,
   "id": "fcbf86fa-fc41-4068-bd24-d79e6eaf488e",
   "metadata": {
    "tags": []
   },
   "outputs": [
    {
     "name": "stdout",
     "output_type": "stream",
     "text": [
      "----------------------------------------------------------------------------------------------------------------------------\n",
      "|\"NUMONE\"  |\"NUMTWO\"  |\"NUMTHREE\"  |\"LETTERONE\"  |\"LETTERTWO\"  |\"LETTERTHREE\"  |\"SYMBOLONE\"  |\"SYMBOLTWO\"  |\"SYMBOLTHREE\"  |\n",
      "----------------------------------------------------------------------------------------------------------------------------\n",
      "|1         |2         |3           |a            |b            |c              |+            |#            |;              |\n",
      "----------------------------------------------------------------------------------------------------------------------------\n",
      "\n"
     ]
    }
   ],
   "source": [
    "myQuery = '''\n",
    "with step_one as (\n",
    "    select 1 as numone,\n",
    "            2 as numtwo,\n",
    "            3 as numthree,\n",
    "            'a' as letterone,\n",
    "            'b' as lettertwo,\n",
    "            'c' as letterthree,\n",
    "            '+' as symbolone,\n",
    "            '#' as symboltwo,\n",
    "            ';' as symbolthree\n",
    ")\n",
    "\n",
    "select * \n",
    "from step_one\n",
    "'''\n",
    "\n",
    "session.sql(myQuery).show()"
   ]
  },
  {
   "cell_type": "markdown",
   "id": "6561217a-fed3-4bc7-95c0-28209014a4cd",
   "metadata": {},
   "source": [
    "## Using ILIKE"
   ]
  },
  {
   "cell_type": "code",
   "execution_count": 9,
   "id": "5313cad1-729e-4dd3-ab02-412fc3b25bd1",
   "metadata": {
    "tags": []
   },
   "outputs": [
    {
     "name": "stdout",
     "output_type": "stream",
     "text": [
      "----------------------------------------\n",
      "|\"NUMTWO\"  |\"LETTERTWO\"  |\"SYMBOLTWO\"  |\n",
      "----------------------------------------\n",
      "|2         |b            |#            |\n",
      "----------------------------------------\n",
      "\n"
     ]
    }
   ],
   "source": [
    "myQuery = '''\n",
    "with step_one as (\n",
    "    select 1 as numone,\n",
    "            2 as numtwo,\n",
    "            3 as numthree,\n",
    "            'a' as letterone,\n",
    "            'b' as lettertwo,\n",
    "            'c' as letterthree,\n",
    "            '+' as symbolone,\n",
    "            '#' as symboltwo,\n",
    "            ';' as symbolthree\n",
    ")\n",
    "\n",
    "select * ilike '%two' \n",
    "from step_one\n",
    "'''\n",
    "\n",
    "session.sql(myQuery).show()"
   ]
  }
 ],
 "metadata": {
  "kernelspec": {
   "display_name": "Python 3 (ipykernel)",
   "language": "python",
   "name": "python3"
  },
  "language_info": {
   "codemirror_mode": {
    "name": "ipython",
    "version": 3
   },
   "file_extension": ".py",
   "mimetype": "text/x-python",
   "name": "python",
   "nbconvert_exporter": "python",
   "pygments_lexer": "ipython3",
   "version": "3.8.16"
  }
 },
 "nbformat": 4,
 "nbformat_minor": 5
}
