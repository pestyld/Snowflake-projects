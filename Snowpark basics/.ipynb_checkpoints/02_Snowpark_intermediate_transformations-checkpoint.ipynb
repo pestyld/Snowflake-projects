{
 "cells": [
  {
   "cell_type": "markdown",
   "id": "2a8a9120-ef32-4340-9ec9-74380b6b2a1c",
   "metadata": {},
   "source": [
    "# Snowpark Transformation"
   ]
  },
  {
   "cell_type": "code",
   "execution_count": 3,
   "id": "0abd306f-3218-4251-a583-7fc1aa78e34d",
   "metadata": {
    "tags": []
   },
   "outputs": [],
   "source": [
    "# Snowpark for Python\n",
    "from snowflake.snowpark.session import Session\n",
    "from snowflake.snowpark.types import StringType, ArrayType\n",
    "from snowflake.snowpark import Window\n",
    "from snowflake.snowpark.functions import *  ## for @UDF\n",
    "from snowflake.snowpark.version import VERSION\n",
    "\n",
    "# Misc\n",
    "import json\n",
    "import pandas as pd\n",
    "from urllib import request\n",
    "import requests\n",
    "from bs4 import BeautifulSoup\n",
    "import re\n",
    "import os\n",
    "from datetime import date"
   ]
  },
  {
   "cell_type": "markdown",
   "id": "904e4ad3-3c4c-48d9-b474-d460dbd35a41",
   "metadata": {},
   "source": [
    "## Create Snowflake connection"
   ]
  },
  {
   "cell_type": "code",
   "execution_count": 4,
   "id": "43a337a4-c86a-4726-860a-fbaca3ef6755",
   "metadata": {
    "tags": []
   },
   "outputs": [
    {
     "name": "stdout",
     "output_type": "stream",
     "text": [
      "Snowflake version           : 7.28.0\n",
      "Snowpark for Python version : 1.4.0\n"
     ]
    }
   ],
   "source": [
    "## Connection information\n",
    "path = os.environ.get('CAS_CREDENTIALS')\n",
    "connection_parameters = json.load(open(f'{path}\\\\connection.json'))\n",
    "\n",
    "# Create Snowflake Session object\n",
    "session = Session.builder.configs(connection_parameters).create()\n",
    "\n",
    "## Version info\n",
    "snowflake_environment = session.sql('select current_user(), current_version()').collect()\n",
    "snowpark_version = VERSION\n",
    "\n",
    "# Current Environment Details\n",
    "print('Snowflake version           : {}'.format(snowflake_environment[0][1]))\n",
    "print('Snowpark for Python version : {}.{}.{}'.format(snowpark_version[0],snowpark_version[1],snowpark_version[2]))"
   ]
  },
  {
   "cell_type": "markdown",
   "id": "b9f16352-40a1-4943-b008-487ea7f1d515",
   "metadata": {},
   "source": [
    "## Create demo database"
   ]
  },
  {
   "cell_type": "code",
   "execution_count": null,
   "id": "62d4337a-4792-463e-81a2-427b4bf3c9b1",
   "metadata": {
    "tags": []
   },
   "outputs": [],
   "source": [
    "session.sql('CREATE DATABASE MYDB').collect()"
   ]
  },
  {
   "cell_type": "code",
   "execution_count": 12,
   "id": "eb656cb9-2a0b-4833-a51f-f6c8c7d7d703",
   "metadata": {
    "tags": []
   },
   "outputs": [],
   "source": [
    "session.use_database('MYDB')"
   ]
  },
  {
   "cell_type": "code",
   "execution_count": 13,
   "id": "14c68d93-dc21-4075-ae4c-3c9c69899494",
   "metadata": {
    "tags": []
   },
   "outputs": [
    {
     "data": {
      "text/plain": [
       "'\"MYDB\"'"
      ]
     },
     "execution_count": 13,
     "metadata": {},
     "output_type": "execute_result"
    }
   ],
   "source": [
    "session.get_current_database()"
   ]
  },
  {
   "cell_type": "code",
   "execution_count": 14,
   "id": "ab711f87-58b2-4461-8a4d-210b10bed94a",
   "metadata": {
    "tags": []
   },
   "outputs": [
    {
     "data": {
      "text/plain": [
       "'\"PUBLIC\"'"
      ]
     },
     "execution_count": 14,
     "metadata": {},
     "output_type": "execute_result"
    }
   ],
   "source": [
    "session.get_current_schema()"
   ]
  },
  {
   "cell_type": "markdown",
   "id": "ee255075-6691-4cad-af70-d013cc33d07b",
   "metadata": {},
   "source": [
    "## Create demo table"
   ]
  },
  {
   "cell_type": "markdown",
   "id": "f40bcddc-4ec4-4fb9-b45d-63e2151d2bf4",
   "metadata": {
    "tags": []
   },
   "source": [
    "### Create pandas DataFrame"
   ]
  },
  {
   "cell_type": "code",
   "execution_count": 15,
   "id": "0c13bf72-00c7-462b-b2f3-69988214077f",
   "metadata": {
    "tags": []
   },
   "outputs": [
    {
     "data": {
      "text/html": [
       "<div>\n",
       "<style scoped>\n",
       "    .dataframe tbody tr th:only-of-type {\n",
       "        vertical-align: middle;\n",
       "    }\n",
       "\n",
       "    .dataframe tbody tr th {\n",
       "        vertical-align: top;\n",
       "    }\n",
       "\n",
       "    .dataframe thead th {\n",
       "        text-align: right;\n",
       "    }\n",
       "</style>\n",
       "<table border=\"1\" class=\"dataframe\">\n",
       "  <thead>\n",
       "    <tr style=\"text-align: right;\">\n",
       "      <th></th>\n",
       "      <th>id</th>\n",
       "      <th>website</th>\n",
       "      <th>html</th>\n",
       "    </tr>\n",
       "  </thead>\n",
       "  <tbody>\n",
       "    <tr>\n",
       "      <th>0</th>\n",
       "      <td>1</td>\n",
       "      <td>https://en.wikipedia.org/wiki/Snowflake_Inc.</td>\n",
       "      <td>&lt;!DOCTYPE html&gt;\\n&lt;html class=\"client-nojs vect...</td>\n",
       "    </tr>\n",
       "    <tr>\n",
       "      <th>1</th>\n",
       "      <td>2</td>\n",
       "      <td>https://en.wikipedia.org/wiki/Amazon_Web_Services</td>\n",
       "      <td>&lt;!DOCTYPE html&gt;\\n&lt;html class=\"client-nojs vect...</td>\n",
       "    </tr>\n",
       "    <tr>\n",
       "      <th>2</th>\n",
       "      <td>3</td>\n",
       "      <td>https://en.wikipedia.org/wiki/Google_Cloud_Pla...</td>\n",
       "      <td>&lt;!DOCTYPE html&gt;\\n&lt;html class=\"client-nojs vect...</td>\n",
       "    </tr>\n",
       "    <tr>\n",
       "      <th>3</th>\n",
       "      <td>4</td>\n",
       "      <td>https://en.wikipedia.org/wiki/Microsoft_Azure</td>\n",
       "      <td>&lt;!DOCTYPE html&gt;\\n&lt;html class=\"client-nojs vect...</td>\n",
       "    </tr>\n",
       "    <tr>\n",
       "      <th>4</th>\n",
       "      <td>5</td>\n",
       "      <td>https://en.wikipedia.org/wiki/Apache_Spark</td>\n",
       "      <td>&lt;!DOCTYPE html&gt;\\n&lt;html class=\"client-nojs vect...</td>\n",
       "    </tr>\n",
       "  </tbody>\n",
       "</table>\n",
       "</div>"
      ],
      "text/plain": [
       "   id                                            website  \\\n",
       "0   1       https://en.wikipedia.org/wiki/Snowflake_Inc.   \n",
       "1   2  https://en.wikipedia.org/wiki/Amazon_Web_Services   \n",
       "2   3  https://en.wikipedia.org/wiki/Google_Cloud_Pla...   \n",
       "3   4      https://en.wikipedia.org/wiki/Microsoft_Azure   \n",
       "4   5         https://en.wikipedia.org/wiki/Apache_Spark   \n",
       "\n",
       "                                                html  \n",
       "0  <!DOCTYPE html>\\n<html class=\"client-nojs vect...  \n",
       "1  <!DOCTYPE html>\\n<html class=\"client-nojs vect...  \n",
       "2  <!DOCTYPE html>\\n<html class=\"client-nojs vect...  \n",
       "3  <!DOCTYPE html>\\n<html class=\"client-nojs vect...  \n",
       "4  <!DOCTYPE html>\\n<html class=\"client-nojs vect...  "
      ]
     },
     "execution_count": 15,
     "metadata": {},
     "output_type": "execute_result"
    }
   ],
   "source": [
    "data = {\n",
    "    'id' : [1,2,3,4,5],\n",
    "    'website' : [\n",
    "        'https://en.wikipedia.org/wiki/Snowflake_Inc.',\n",
    "        'https://en.wikipedia.org/wiki/Amazon_Web_Services',\n",
    "        'https://en.wikipedia.org/wiki/Google_Cloud_Platform',\n",
    "        'https://en.wikipedia.org/wiki/Microsoft_Azure',\n",
    "        'https://en.wikipedia.org/wiki/Apache_Spark'\n",
    "    ],\n",
    "    'html' : []\n",
    "}\n",
    "\n",
    "for item in data['website']:\n",
    "    data['html'].append(requests.get(item).text)\n",
    "    \n",
    "pdDataFrame = pd.DataFrame.from_dict(data)\n",
    "\n",
    "pdDataFrame.head()"
   ]
  },
  {
   "cell_type": "markdown",
   "id": "0d5b773f-3b36-4f12-9ecb-136026d8011a",
   "metadata": {},
   "source": [
    "### Create Snowflake data"
   ]
  },
  {
   "cell_type": "code",
   "execution_count": 19,
   "id": "8ecf8e9a-9720-4972-83ed-46278ab6293c",
   "metadata": {
    "tags": []
   },
   "outputs": [
    {
     "data": {
      "text/plain": [
       "[Row(status='Table WIKIPEDIA_PAGES successfully created.')]"
      ]
     },
     "execution_count": 19,
     "metadata": {},
     "output_type": "execute_result"
    }
   ],
   "source": [
    "## Create table structure\n",
    "query = '''\n",
    "    CREATE OR REPLACE TABLE wikipedia_pages (\n",
    "        ID int,\n",
    "        WEBSITE string,\n",
    "        html string\n",
    "    )\n",
    "'''\n",
    "\n",
    "session.sql(query).collect()"
   ]
  },
  {
   "cell_type": "code",
   "execution_count": 21,
   "id": "1866e474-520c-4eea-a271-f0581b97668c",
   "metadata": {
    "tags": []
   },
   "outputs": [],
   "source": [
    "## Write pandas dataframe to snowflake table\n",
    "sp_df = (\n",
    "    session\n",
    "    .write_pandas(\n",
    "        df = pdDataFrame,\n",
    "        table_name = 'WIKIPEDIA_PAGES',\n",
    "        database = 'MYDB',\n",
    "        schema = 'PUBLIC',\n",
    "        quote_identifiers = False, ## Quotes around column names, so remove those\n",
    "        overwrite = True\n",
    "    )\n",
    ")"
   ]
  },
  {
   "cell_type": "code",
   "execution_count": null,
   "id": "3dfd0bfc-b9f1-4519-8f46-417f018085fa",
   "metadata": {
    "tags": []
   },
   "outputs": [],
   "source": [
    "sp_df.show(1)"
   ]
  },
  {
   "cell_type": "markdown",
   "id": "e0cb54bf-a77e-497a-a786-99fb0acb024e",
   "metadata": {},
   "source": [
    "## Create UDFs"
   ]
  },
  {
   "cell_type": "markdown",
   "id": "cdf5c9df-8cbe-42d6-8096-0ddca3b024e3",
   "metadata": {},
   "source": [
    "### Test UDF locally"
   ]
  },
  {
   "cell_type": "code",
   "execution_count": 25,
   "id": "afb4151e-36fa-41f8-8f73-780db423a0e8",
   "metadata": {
    "tags": []
   },
   "outputs": [
    {
     "name": "stdout",
     "output_type": "stream",
     "text": [
      "<!DOCTYPE html>\n",
      "<html class=\"client-nojs vector-feature-language-in-header-enabled vector-feature-language-in-main-page-header-disabled vector-feature-sticky-header-disabled vector-feature-page-tools-pinned-disabled vector-feature-toc-pinned-enabled vector-feature-main-menu-pinned-disabled vector-feature-limited-width-enabled vector-feature-limited-width-content-enabled vector-feature-zebra-design-disabled\" lang=\"en\" dir=\"ltr\">\n",
      "<head>\n",
      "<meta charset=\"UTF-8\">\n",
      "<title>Snowflake Inc. - Wikipedia</tit\n"
     ]
    }
   ],
   "source": [
    "## Preview dataframe\n",
    "print(pdDataFrame.loc[0,'html'][:500])"
   ]
  },
  {
   "cell_type": "code",
   "execution_count": 26,
   "id": "f3f5e616-c68f-41e8-85df-a0191da8d39b",
   "metadata": {
    "tags": []
   },
   "outputs": [],
   "source": [
    "## Local function to test\n",
    "def clean_html_dev(html):\n",
    "    clean = BeautifulSoup(html, 'lxml').text\n",
    "    clean = re.sub(r'\\n+', '\\n', clean)\n",
    "    return clean"
   ]
  },
  {
   "cell_type": "code",
   "execution_count": 27,
   "id": "dcbbeccc-c216-43d6-8e34-c1e2a27c01ca",
   "metadata": {
    "tags": []
   },
   "outputs": [
    {
     "name": "stdout",
     "output_type": "stream",
     "text": [
      "\n",
      "Snowflake Inc. - Wikipedia\n",
      "Jump to content\n",
      "Main menu\n",
      "Main menu\n",
      "move to sidebar\n",
      "hide\n",
      "\t\tNavigation\n",
      "\t\n",
      "Main pageContentsCurrent eventsRandom articleAbout WikipediaContact usDonate\n",
      "\t\tContribute\n",
      "\t\n",
      "HelpLearn to editCommunity portalRecent changesUpload file\n",
      "Languages\n",
      "Language links are at the top of the page across from the title.\n",
      "Search\n",
      "Search\n",
      "Create accountLog in\n",
      "Personal tools\n",
      " Create account Log in\n",
      "\t\tPages for logged out editors learn more\n",
      "ContributionsTalk\n",
      "Contents\n",
      "move to sidebar\n",
      "hide\n",
      "(Top)\n",
      "1Hist\n"
     ]
    }
   ],
   "source": [
    "print(clean_html_dev(pdDataFrame.loc[0,'html'])[:500])"
   ]
  },
  {
   "cell_type": "markdown",
   "id": "66cfdaa9-6a89-4a3f-b68b-cbc9b0749392",
   "metadata": {},
   "source": [
    "### Development UDF for Snowflake"
   ]
  },
  {
   "cell_type": "code",
   "execution_count": 28,
   "id": "7b348216-7542-4ffa-9c0e-b989cb452e69",
   "metadata": {
    "tags": []
   },
   "outputs": [],
   "source": [
    "@udf(return_type = StringType(), \n",
    "     input_types = [StringType()],\n",
    "     name = 'clean_html',\n",
    "     packages = ['BeautifulSoup4', 'lxml'],\n",
    "     replace = True\n",
    "    )\n",
    "def clean_html_dev(html):\n",
    "    clean = BeautifulSoup(html, 'lxml').text\n",
    "    clean = re.sub(r'\\n+', '\\n', clean)\n",
    "    return clean"
   ]
  },
  {
   "cell_type": "code",
   "execution_count": 30,
   "id": "eb435e06-c935-47a4-ba16-e299f6fb5f3b",
   "metadata": {},
   "outputs": [
    {
     "data": {
      "text/plain": [
       "{'queries': ['SELECT  *  FROM (MYDB.PUBLIC.WIKIPEDIA_PAGES)'],\n",
       " 'post_actions': []}"
      ]
     },
     "execution_count": 30,
     "metadata": {},
     "output_type": "execute_result"
    }
   ],
   "source": [
    "sp_df.queries"
   ]
  },
  {
   "cell_type": "code",
   "execution_count": 33,
   "id": "f485daea-3816-4c57-9de3-abc8bef2bc04",
   "metadata": {
    "tags": []
   },
   "outputs": [
    {
     "name": "stdout",
     "output_type": "stream",
     "text": [
      "------------------------------------------------------------------------------------------------------------\n",
      "|\"ID\"  |\"WEBSITE\"                                     |\"WEBSITE_TEXT\"                                      |\n",
      "------------------------------------------------------------------------------------------------------------\n",
      "|1     |https://en.wikipedia.org/wiki/Snowflake_Inc.  |                                                    |\n",
      "|      |                                              |Snowflake Inc. - Wikipedia                          |\n",
      "|      |                                              |Jump to content                                     |\n",
      "|      |                                              |Main menu                                           |\n",
      "|      |                                              |Main menu                                           |\n",
      "|      |                                              |move to sidebar                                     |\n",
      "|      |                                              |hide                                                |\n",
      "|      |                                              |\t\tNavigation                                        |\n",
      "|      |                                              |\t                                                   |\n",
      "|      |                                              |Main pageContentsCurrent eventsRandom articleAb...  |\n",
      "|      |                                              |\t\tContribute                                        |\n",
      "|      |                                              |\t                                                   |\n",
      "|      |                                              |HelpLearn to editCommunity portalRecent changes...  |\n",
      "|      |                                              |Languages                                           |\n",
      "|      |                                              |Language links are at the top of the page acros...  |\n",
      "|      |                                              |Search                                              |\n",
      "|      |                                              |Search                                              |\n",
      "|      |                                              |Create accountLog in                                |\n",
      "|      |                                              |Personal tools                                      |\n",
      "|      |                                              | Create account Log in                              |\n",
      "|      |                                              |\t\tPages for logged out editors learn more           |\n",
      "|      |                                              |ContributionsTalk                                   |\n",
      "|      |                                              |Contents                                            |\n",
      "|      |                                              |move to sidebar                                     |\n",
      "|      |                                              |hide                                                |\n",
      "|      |                                              |(Top)                                               |\n",
      "|      |                                              |1History                                            |\n",
      "|      |                                              |2References                                         |\n",
      "|      |                                              |3External links                                     |\n",
      "|      |                                              |Toggle the table of contents                        |\n",
      "|      |                                              |Toggle the table of contents                        |\n",
      "|      |                                              |Snowflake Inc.                                      |\n",
      "|      |                                              |7 languages                                         |\n",
      "|      |                                              |DeutschEspañolفارسیFrançaisעבריתNorsk bokmålSve...  |\n",
      "|      |                                              |Edit links                                          |\n",
      "|      |                                              |ArticleTalk                                         |\n",
      "|      |                                              |English                                             |\n",
      "|      |                                              |ReadEditView history                                |\n",
      "|      |                                              |Tools                                               |\n",
      "|      |                                              |Tools                                               |\n",
      "|      |                                              |move to sidebar                                     |\n",
      "|      |                                              |hide                                                |\n",
      "|      |                                              |\t\tActions                                           |\n",
      "|      |                                              |\t                                                   |\n",
      "|      |                                              |ReadEditView history                                |\n",
      "|      |                                              |\t\tGeneral                                           |\n",
      "|      |                                              |\t                                                   |\n",
      "|      |                                              |What links hereRelated changesUpload fileSpecia...  |\n",
      "|      |                                              |\t\tPrint/export                                      |\n",
      "|      |                                              |\t                                                   |\n",
      "|      |                                              |Download as PDFPrintable version                    |\n",
      "|      |                                              |\t\tIn other projects                                 |\n",
      "|      |                                              |\t                                                   |\n",
      "|      |                                              |Wikimedia Commons                                   |\n",
      "|      |                                              |From Wikipedia, the free encyclopedia               |\n",
      "|      |                                              |Cloud-based data-warehousing company                |\n",
      "|      |                                              |Snowflake Inc.TypePublic companyTraded asNYSE: ...  |\n",
      "|      |                                              |Snowflake Inc. is a cloud computing–based data ...  |\n",
      "|      |                                              |The firm offers a cloud-based data storage and ...  |\n",
      "|      |                                              |History[edit]                                       |\n",
      "|      |                                              |Snowflake booth                                     |\n",
      "|      |                                              |Snowflake Inc. was founded in July 2012 in San ...  |\n",
      "|      |                                              |In June 2014, the company appointed former Micr...  |\n",
      "|      |                                              |In May 2019, Frank Slootman, the retired former...  |\n",
      "|      |                                              |On February 7, 2020, the company raised another...  |\n",
      "|      |                                              |On May 26, 2021, the company announced that it ...  |\n",
      "|      |                                              |On March 2, 2022, the company acquired Streamli...  |\n",
      "|      |                                              |Snowflake announced it would acquire privacy-fo...  |\n",
      "|      |                                              |References[edit]                                    |\n",
      "|      |                                              |^ \"US SEC: Form 10-K Snowflake, Inc\". U.S. Secu...  |\n",
      "|      |                                              |^ a b Handy, Alex (October 23, 2014). \"Snowflak...  |\n",
      "|      |                                              |^ Wingfield, Nick (October 21, 2014). \"Longtime...  |\n",
      "|      |                                              |^ a b Dignan, Larry (October 22, 2018). \"Snowfl...  |\n",
      "|      |                                              |^ Bass, Dina (October 21, 2014). \"Snowflake Tak...  |\n",
      "|      |                                              |^ Reckers, Ed (January 14, 2022). \"What is the ...  |\n",
      "|      |                                              |^ Brust, Andrew (July 12, 2018). \"Snowflake's c...  |\n",
      "|      |                                              |^ a b Taulli, Tom (June 5, 2019). \"Snowflake: T...  |\n",
      "|      |                                              |^ Ichhpurani, Kevin (June 4, 2019). \"Announcing...  |\n",
      "|      |                                              |^ Brier, Elisabeth; Cai, Kenrick; Jeans, David;...  |\n",
      "|      |                                              |^ a b La Monica, Paul R. (September 16, 2020). ...  |\n",
      "|      |                                              |^ Anders, George (September 4, 2019). \"You're n...  |\n",
      "|      |                                              |^ Vanian, Jonathan (October 21, 2014). \"With $2...  |\n",
      "|      |                                              |^ Vanian, Jonathan (June 23, 2015). \"This big d...  |\n",
      "|      |                                              |^ Hesseldahl, Arik (June 23, 2015). \"Big Data S...  |\n",
      "|      |                                              |^ Brust, Andrew (June 26, 2015). \"Cloud data wa...  |\n",
      "|      |                                              |^ Dignan, Larry (April 5, 2017). \"Snowflake Com...  |\n",
      "|      |                                              |^ Magistretti, Bérénice; Novet, Jordan (April 5...  |\n",
      "|      |                                              |^ Miller, Ron (January 25, 2018). \"Snowflake la...  |\n",
      "|      |                                              |^ Krazit, Tom (October 11, 2018). \"With huge ne...  |\n",
      "|      |                                              |^ \"Snowflake Announces Data Exchange to Break D...  |\n",
      "|      |                                              |^ Hempel, Jessi (September 4, 2019). \"LinkedIn ...  |\n",
      "|      |                                              |^ Miller, Ron (February 9, 2020). \"After $479M ...  |\n",
      "|      |                                              |^ Driebusch, Corrie (September 16, 2020). \"Snow...  |\n",
      "|      |                                              |^ Bary, Emily (September 16, 2020). \"Snowflake ...  |\n",
      "|      |                                              |^ Zara, Christopher (September 16, 2020). \"Snow...  |\n",
      "|      |                                              |^ Pressman, Aaron (September 16, 2020). \"Snowfl...  |\n",
      "|      |                                              |^ Levy, Ari (May 26, 2021). \"Snowflake relocate...  |\n",
      "|      |                                              |^ \"Snowflake Reports Financial Results for the ...  |\n",
      "|      |                                              |^ Miller, Ron (March 2, 2022). \"Snowflake acqui...  |\n",
      "|      |                                              |^ Sharma, Shubham (October 17, 2022). \"Snowflak...  |\n",
      "|      |                                              |^ Palmer, Annie (May 24, 2023). \"Snowflake shar...  |\n",
      "|      |                                              |External links[edit]                                |\n",
      "|      |                                              |Wikimedia Commons has media related to Snowflak...  |\n",
      "|      |                                              |Official website                                    |\n",
      "|      |                                              |Business data for Snowflake Inc.: BloombergGoog...  |\n",
      "|      |                                              |Retrieved from \"https://en.wikipedia.org/w/inde...  |\n",
      "|      |                                              |Categories: 2012 establishments in California20...  |\n",
      "|      |                                              | This page was last edited on 24 July 2023, at ...  |\n",
      "|      |                                              |Text is available under the Creative Commons At...  |\n",
      "|      |                                              |additional terms may apply.  By using this site...  |\n",
      "|      |                                              |Privacy policy                                      |\n",
      "|      |                                              |About Wikipedia                                     |\n",
      "|      |                                              |Disclaimers                                         |\n",
      "|      |                                              |Contact Wikipedia                                   |\n",
      "|      |                                              |Code of Conduct                                     |\n",
      "|      |                                              |Mobile view                                         |\n",
      "|      |                                              |Developers                                          |\n",
      "|      |                                              |Statistics                                          |\n",
      "|      |                                              |Cookie statement                                    |\n",
      "|      |                                              |Toggle limited content width                        |\n",
      "|      |                                              |                                                    |\n",
      "------------------------------------------------------------------------------------------------------------\n",
      "\n"
     ]
    }
   ],
   "source": [
    "sp_df = (sp_df\n",
    "         .withColumn('website_text',\n",
    "                     clean_html_dev('html'))\n",
    "         .drop('html')\n",
    "        )\n",
    "\n",
    "sp_df.show(1)"
   ]
  },
  {
   "cell_type": "markdown",
   "id": "ccb78210-3050-47f0-ab62-8d86ca953b5f",
   "metadata": {},
   "source": [
    "## JSON Data"
   ]
  },
  {
   "cell_type": "code",
   "execution_count": null,
   "id": "ed7778ac-c94e-46ad-8f88-b3c68d342920",
   "metadata": {},
   "outputs": [],
   "source": []
  },
  {
   "cell_type": "code",
   "execution_count": null,
   "id": "8a650d93-06c7-48a3-a24c-87277fb8ac67",
   "metadata": {},
   "outputs": [],
   "source": []
  },
  {
   "cell_type": "code",
   "execution_count": null,
   "id": "a3824b4f-2eb8-46bd-80f3-709625a299d5",
   "metadata": {},
   "outputs": [],
   "source": []
  },
  {
   "cell_type": "code",
   "execution_count": null,
   "id": "e88ba3c0-aa43-4c5d-ae41-dcdc33c90c9c",
   "metadata": {},
   "outputs": [],
   "source": []
  },
  {
   "cell_type": "code",
   "execution_count": 49,
   "id": "63f105c3-f939-488b-9080-f61f49674e6f",
   "metadata": {},
   "outputs": [],
   "source": [
    "session.close()"
   ]
  }
 ],
 "metadata": {
  "kernelspec": {
   "display_name": "Python 3 (ipykernel)",
   "language": "python",
   "name": "python3"
  },
  "language_info": {
   "codemirror_mode": {
    "name": "ipython",
    "version": 3
   },
   "file_extension": ".py",
   "mimetype": "text/x-python",
   "name": "python",
   "nbconvert_exporter": "python",
   "pygments_lexer": "ipython3",
   "version": "3.8.16"
  }
 },
 "nbformat": 4,
 "nbformat_minor": 5
}
