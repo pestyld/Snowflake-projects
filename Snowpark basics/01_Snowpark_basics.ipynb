{
 "cells": [
  {
   "cell_type": "markdown",
   "id": "3fd37e28-1f34-4e6c-b925-92f1a2d9c75a",
   "metadata": {},
   "source": [
    "# Snowpark Basics\n",
    "From YouTube: https://www.youtube.com/watch?v=udcFnIvXFnE&t=293s"
   ]
  },
  {
   "cell_type": "markdown",
   "id": "1841b06a-689b-448c-a33e-13d5d8f26207",
   "metadata": {},
   "source": [
    "## Packages"
   ]
  },
  {
   "cell_type": "code",
   "execution_count": 3,
   "id": "51edec50-c6f3-4821-bb7a-d136c02e3475",
   "metadata": {
    "tags": []
   },
   "outputs": [],
   "source": [
    "# Snowpark for Python\n",
    "from snowflake.snowpark.session import Session\n",
    "import snowflake.snowpark.functions as F\n",
    "from snowflake.snowpark.version import VERSION\n",
    "\n",
    "## Version info\n",
    "snowflake_environment = session.sql('select current_user(), current_version()').collect()\n",
    "snowpark_version = VERSION\n",
    "\n",
    "# Misc\n",
    "import json\n",
    "import os\n",
    "from datetime import date"
   ]
  },
  {
   "cell_type": "markdown",
   "id": "c053a6dd-fbbc-4036-87fa-e070ea662b86",
   "metadata": {},
   "source": [
    "## Create Snowflake connection"
   ]
  },
  {
   "cell_type": "code",
   "execution_count": 4,
   "id": "005647bb-eb41-4e90-a21a-c8f7d134d4b2",
   "metadata": {
    "tags": []
   },
   "outputs": [
    {
     "name": "stdout",
     "output_type": "stream",
     "text": [
      "Snowflake version           : 7.27.1\n",
      "Snowpark for Python version : 1.4.0\n"
     ]
    }
   ],
   "source": [
    "## Connection information\n",
    "path = os.environ.get('CAS_CREDENTIALS')\n",
    "connection_parameters = json.load(open(f'{path}\\\\connection.json'))\n",
    "\n",
    "# Create Snowflake Session object\n",
    "session = Session.builder.configs(connection_parameters).create()\n",
    "\n",
    "# Current Environment Details\n",
    "print('Snowflake version           : {}'.format(snowflake_environment[0][1]))\n",
    "print('Snowpark for Python version : {}.{}.{}'.format(snowpark_version[0],snowpark_version[1],snowpark_version[2]))"
   ]
  },
  {
   "cell_type": "code",
   "execution_count": 215,
   "id": "7a342fe0-ee89-48a2-b284-537cf98730b8",
   "metadata": {
    "tags": []
   },
   "outputs": [
    {
     "data": {
      "text/plain": [
       "snowflake.snowpark.session.Session"
      ]
     },
     "execution_count": 215,
     "metadata": {},
     "output_type": "execute_result"
    }
   ],
   "source": [
    "type(session)"
   ]
  },
  {
   "cell_type": "markdown",
   "id": "30b459c1-cb20-4304-a9fb-719ec6abec92",
   "metadata": {},
   "source": [
    "## Explore warehouse"
   ]
  },
  {
   "cell_type": "code",
   "execution_count": 216,
   "id": "f1646c1b-b970-49c4-a764-dc26776d0f99",
   "metadata": {
    "tags": []
   },
   "outputs": [
    {
     "name": "stdout",
     "output_type": "stream",
     "text": [
      "---------------------------------------------------------------------------------------------------------------------------------------------------------------------------------------------------------------------------------------------------------------------\n",
      "|\"created_on\"                      |\"name\"                 |\"is_default\"  |\"is_current\"  |\"origin\"                                            |\"owner\"       |\"comment\"                                          |\"options\"  |\"retention_time\"  |\"kind\"             |\n",
      "---------------------------------------------------------------------------------------------------------------------------------------------------------------------------------------------------------------------------------------------------------------------\n",
      "|2023-07-19 04:21:12.297000-07:00  |CITIBIKE               |N             |N             |                                                    |ACCOUNTADMIN  |                                                   |           |1                 |STANDARD           |\n",
      "|2023-07-25 05:15:34.604000-07:00  |DASH_DB                |N             |Y             |                                                    |ACCOUNTADMIN  |                                                   |           |1                 |STANDARD           |\n",
      "|2023-08-10 07:12:05.738000-07:00  |NEWDB                  |N             |N             |                                                    |ACCOUNTADMIN  |                                                   |           |1                 |STANDARD           |\n",
      "|2023-07-19 04:10:02.130000-07:00  |SNOWFLAKE              |N             |N             |SNOWFLAKE.ACCOUNT_USAGE                             |              |                                                   |           |0                 |IMPORTED DATABASE  |\n",
      "|2023-07-19 04:10:06.923000-07:00  |SNOWFLAKE_SAMPLE_DATA  |N             |N             |SFSALESSHARED.SFC_SAMPLES_AZURE_EASTUS2.SAMPLE_...  |ACCOUNTADMIN  |Provided by Snowflake during account provisioning  |           |0                 |IMPORTED DATABASE  |\n",
      "|2023-07-21 04:25:26.925000-07:00  |WEATHER                |N             |N             |                                                    |ACCOUNTADMIN  |                                                   |           |1                 |STANDARD           |\n",
      "---------------------------------------------------------------------------------------------------------------------------------------------------------------------------------------------------------------------------------------------------------------------\n",
      "\n"
     ]
    }
   ],
   "source": [
    "session.sql('SHOW DATABASES').show()"
   ]
  },
  {
   "cell_type": "code",
   "execution_count": 217,
   "id": "88d48944-5f95-43b5-bc49-3c7b42b97e03",
   "metadata": {
    "tags": []
   },
   "outputs": [],
   "source": [
    "session.use_database('SNOWFLAKE_SAMPLE_DATA')"
   ]
  },
  {
   "cell_type": "code",
   "execution_count": 218,
   "id": "08310fe2-4742-45fa-9e4e-99986f7b8506",
   "metadata": {
    "tags": []
   },
   "outputs": [
    {
     "data": {
      "text/plain": [
       "'\"SNOWFLAKE_SAMPLE_DATA\"'"
      ]
     },
     "execution_count": 218,
     "metadata": {},
     "output_type": "execute_result"
    }
   ],
   "source": [
    "session.get_current_database()"
   ]
  },
  {
   "cell_type": "code",
   "execution_count": 219,
   "id": "e0429ac3-522f-4665-b596-62c6c6d0bda0",
   "metadata": {
    "tags": []
   },
   "outputs": [],
   "source": [
    "session.use_schema('TPCH_SF10')"
   ]
  },
  {
   "cell_type": "code",
   "execution_count": 220,
   "id": "db819b56-379e-4840-85bb-3479f4d9ec16",
   "metadata": {
    "tags": []
   },
   "outputs": [
    {
     "data": {
      "text/plain": [
       "'\"TPCH_SF10\"'"
      ]
     },
     "execution_count": 220,
     "metadata": {},
     "output_type": "execute_result"
    }
   ],
   "source": [
    "session.get_current_schema()"
   ]
  },
  {
   "cell_type": "code",
   "execution_count": 221,
   "id": "b38fc262-1c34-4dea-8e65-0a82f734876d",
   "metadata": {
    "tags": []
   },
   "outputs": [
    {
     "name": "stdout",
     "output_type": "stream",
     "text": [
      "-----------------------------------------------------------------------------------------------------------------------------------------------------------------------------------------------------------------------------------------------------------------------------------------\n",
      "|\"created_on\"                      |\"name\"    |\"database_name\"        |\"schema_name\"  |\"kind\"  |\"comment\"                          |\"cluster_by\"  |\"rows\"    |\"bytes\"     |\"owner\"  |\"retention_time\"  |\"automatic_clustering\"  |\"change_tracking\"  |\"is_external\"  |\"owner_role_type\"  |\n",
      "-----------------------------------------------------------------------------------------------------------------------------------------------------------------------------------------------------------------------------------------------------------------------------------------\n",
      "|2021-11-09 20:42:41.809000-08:00  |CUSTOMER  |SNOWFLAKE_SAMPLE_DATA  |TPCH_SF10      |TABLE   |Customer data as defined by TPC-H  |              |1500000   |108249088   |         |1                 |OFF                     |OFF                |N              |                   |\n",
      "|2021-11-09 20:42:41.714000-08:00  |LINEITEM  |SNOWFLAKE_SAMPLE_DATA  |TPCH_SF10      |TABLE   |Lineitem data as defined by TPC-H  |              |59986052  |1717059584  |         |1                 |OFF                     |OFF                |N              |                   |\n",
      "|2021-11-09 20:42:41.743000-08:00  |NATION    |SNOWFLAKE_SAMPLE_DATA  |TPCH_SF10      |TABLE   |Nation data as defined by TPC-H    |              |25        |4096        |         |1                 |OFF                     |OFF                |N              |                   |\n",
      "|2021-11-09 20:42:41.672000-08:00  |ORDERS    |SNOWFLAKE_SAMPLE_DATA  |TPCH_SF10      |TABLE   |Orders data as defined by TPC-H    |              |15000000  |446439424   |         |1                 |OFF                     |OFF                |N              |                   |\n",
      "|2021-11-09 20:42:41.966000-08:00  |PART      |SNOWFLAKE_SAMPLE_DATA  |TPCH_SF10      |TABLE   |Part data as defined by TPC-H      |              |2000000   |52776960    |         |1                 |OFF                     |OFF                |N              |                   |\n",
      "|2021-11-09 20:42:41.997000-08:00  |PARTSUPP  |SNOWFLAKE_SAMPLE_DATA  |TPCH_SF10      |TABLE   |Partsupp data as defined by TPC-H  |              |8000000   |373145600   |         |1                 |OFF                     |OFF                |N              |                   |\n",
      "|2021-11-09 20:42:42.072000-08:00  |REGION    |SNOWFLAKE_SAMPLE_DATA  |TPCH_SF10      |TABLE   |Region data as defined by TPC-H    |              |5         |4096        |         |1                 |OFF                     |OFF                |N              |                   |\n",
      "|2021-11-09 20:42:42.011000-08:00  |SUPPLIER  |SNOWFLAKE_SAMPLE_DATA  |TPCH_SF10      |TABLE   |Supplier data as defined by TPC-H  |              |100000    |6791168     |         |1                 |OFF                     |OFF                |N              |                   |\n",
      "-----------------------------------------------------------------------------------------------------------------------------------------------------------------------------------------------------------------------------------------------------------------------------------------\n",
      "\n"
     ]
    }
   ],
   "source": [
    "session.sql('SHOW TABLES').show()"
   ]
  },
  {
   "cell_type": "code",
   "execution_count": 222,
   "id": "8dd7e103-3a76-4188-ba68-3fd99906d362",
   "metadata": {
    "tags": []
   },
   "outputs": [
    {
     "name": "stdout",
     "output_type": "stream",
     "text": [
      "-------------------------------------------------------------------------------------------------------------------------------------------------------------------------------------------------------------------------------------------------------------------------------\n",
      "|\"L_ORDERKEY\"  |\"L_PARTKEY\"  |\"L_SUPPKEY\"  |\"L_LINENUMBER\"  |\"L_QUANTITY\"  |\"L_EXTENDEDPRICE\"  |\"L_DISCOUNT\"  |\"L_TAX\"  |\"L_RETURNFLAG\"  |\"L_LINESTATUS\"  |\"L_SHIPDATE\"  |\"L_COMMITDATE\"  |\"L_RECEIPTDATE\"  |\"L_SHIPINSTRUCT\"   |\"L_SHIPMODE\"  |\"L_COMMENT\"                   |\n",
      "-------------------------------------------------------------------------------------------------------------------------------------------------------------------------------------------------------------------------------------------------------------------------------\n",
      "|52618212      |1651955      |1988         |4               |20.00         |38137.40           |0.09          |0.01     |A               |F               |1992-04-17    |1992-04-25      |1992-04-19       |DELIVER IN PERSON  |TRUCK         |e. ironic, expre              |\n",
      "|52618212      |397072       |72082        |5               |28.00         |32733.68           |0.05          |0.02     |A               |F               |1992-03-09    |1992-04-02      |1992-03-30       |DELIVER IN PERSON  |SHIP          |bove the daringly ironic dep  |\n",
      "|52618212      |1586047      |11063        |6               |10.00         |11329.70           |0.06          |0.04     |A               |F               |1992-04-16    |1992-05-13      |1992-05-15       |NONE               |MAIL          |blithely reg                  |\n",
      "|52618213      |585172       |10178        |1               |40.00         |50286.00           |0.05          |0.06     |A               |F               |1994-12-09    |1994-10-15      |1994-12-14       |NONE               |FOB           | sauternes.                   |\n",
      "|52618213      |983216       |8226         |2               |24.00         |31180.08           |0.05          |0.07     |A               |F               |1994-10-29    |1994-10-25      |1994-11-24       |TAKE BACK RETURN   |RAIL          |ly ironic theodolites are     |\n",
      "-------------------------------------------------------------------------------------------------------------------------------------------------------------------------------------------------------------------------------------------------------------------------------\n",
      "\n"
     ]
    }
   ],
   "source": [
    "session.sql('SELECT * FROM LINEITEM LIMIT 5').show()"
   ]
  },
  {
   "cell_type": "markdown",
   "id": "c10dd898-11d6-495d-a5c4-c01e7f958828",
   "metadata": {},
   "source": [
    "## Reference a Snowflake table"
   ]
  },
  {
   "cell_type": "code",
   "execution_count": 223,
   "id": "c5091172-f354-4dda-b3cc-88d75e4f877b",
   "metadata": {
    "tags": []
   },
   "outputs": [],
   "source": [
    "tbl = session.table(\"LINEITEM\")"
   ]
  },
  {
   "cell_type": "code",
   "execution_count": 224,
   "id": "9a6a32b8-78ec-421b-9e92-4378bd5cc43a",
   "metadata": {
    "tags": []
   },
   "outputs": [
    {
     "data": {
      "text/plain": [
       "snowflake.snowpark.table.Table"
      ]
     },
     "execution_count": 224,
     "metadata": {},
     "output_type": "execute_result"
    }
   ],
   "source": [
    "type(tbl)"
   ]
  },
  {
   "cell_type": "markdown",
   "id": "52d9f2aa-2fbc-4b58-8787-856e7971eb5f",
   "metadata": {},
   "source": [
    "## Show vs Collect"
   ]
  },
  {
   "cell_type": "markdown",
   "id": "18ffdffd-6322-4f8a-ba87-bdc767ad3014",
   "metadata": {},
   "source": [
    "Show will display 20 rows by default."
   ]
  },
  {
   "cell_type": "code",
   "execution_count": 225,
   "id": "c2fd04f1-a748-483b-8bcb-44677ec40b03",
   "metadata": {
    "tags": []
   },
   "outputs": [
    {
     "name": "stdout",
     "output_type": "stream",
     "text": [
      "----------------------------------------------------------------------------------------------------------------------------------------------------------------------------------------------------------------------------------------------------------------------------------------------\n",
      "|\"L_ORDERKEY\"  |\"L_PARTKEY\"  |\"L_SUPPKEY\"  |\"L_LINENUMBER\"  |\"L_QUANTITY\"  |\"L_EXTENDEDPRICE\"  |\"L_DISCOUNT\"  |\"L_TAX\"  |\"L_RETURNFLAG\"  |\"L_LINESTATUS\"  |\"L_SHIPDATE\"  |\"L_COMMITDATE\"  |\"L_RECEIPTDATE\"  |\"L_SHIPINSTRUCT\"   |\"L_SHIPMODE\"  |\"L_COMMENT\"                                  |\n",
      "----------------------------------------------------------------------------------------------------------------------------------------------------------------------------------------------------------------------------------------------------------------------------------------------\n",
      "|59184515      |1799069      |74121        |1               |30.00         |35039.40           |0.04          |0.05     |N               |O               |1995-07-18    |1995-06-30      |1995-08-02       |COLLECT COD        |TRUCK         |al excuses thrash furiously rea              |\n",
      "|59184515      |950779       |75789        |2               |35.00         |64040.55           |0.05          |0.01     |N               |O               |1995-07-08    |1995-06-03      |1995-07-11       |COLLECT COD        |SHIP          |y. quickly final accounts affix furiously i  |\n",
      "|59184515      |1736796      |61814        |3               |28.00         |51315.88           |0.09          |0.00     |R               |F               |1995-05-07    |1995-06-21      |1995-05-09       |NONE               |AIR           |uriously pending instructions.               |\n",
      "|59184515      |324642       |24643        |4               |43.00         |71665.09           |0.10          |0.04     |N               |F               |1995-06-07    |1995-07-08      |1995-06-23       |DELIVER IN PERSON  |SHIP          |ions cajole carefully fluffily regul         |\n",
      "|59184515      |253523       |78526        |5               |42.00         |62013.42           |0.01          |0.03     |N               |O               |1995-07-31    |1995-06-19      |1995-08-09       |TAKE BACK RETURN   |REG AIR       |s. quickly ironic dep                        |\n",
      "|59184515      |950773       |75783        |6               |9.00          |16413.57           |0.07          |0.07     |R               |F               |1995-06-02    |1995-06-07      |1995-06-14       |DELIVER IN PERSON  |TRUCK         |ely express theo                             |\n",
      "|59184516      |1109422      |34434        |1               |26.00         |37215.62           |0.10          |0.05     |N               |O               |1996-09-20    |1996-11-11      |1996-09-26       |COLLECT COD        |MAIL          |ly unusual requests. enticin                 |\n",
      "|59184516      |48068        |73069        |2               |37.00         |37594.22           |0.10          |0.03     |N               |O               |1996-11-24    |1996-10-15      |1996-11-28       |TAKE BACK RETURN   |MAIL          |e blithely. quickly final packages haggle    |\n",
      "|59184517      |915652       |65671        |1               |27.00         |45025.47           |0.07          |0.03     |R               |F               |1993-03-04    |1993-04-25      |1993-03-05       |DELIVER IN PERSON  |REG AIR       |oss the slyly                                |\n",
      "|59184517      |1355570      |5597         |2               |9.00          |14629.59           |0.00          |0.07     |R               |F               |1993-05-04    |1993-04-01      |1993-05-31       |COLLECT COD        |REG AIR       |aggle fluffily carefull                      |\n",
      "----------------------------------------------------------------------------------------------------------------------------------------------------------------------------------------------------------------------------------------------------------------------------------------------\n",
      "\n"
     ]
    }
   ],
   "source": [
    "tbl.show()"
   ]
  },
  {
   "cell_type": "markdown",
   "id": "2b3a7fe9-95b2-469a-9b16-558066052433",
   "metadata": {},
   "source": [
    "Collect wiill create a list of rows."
   ]
  },
  {
   "cell_type": "code",
   "execution_count": 226,
   "id": "933f46b5-6ed4-4b0f-9e85-5e85b9be77a6",
   "metadata": {
    "tags": []
   },
   "outputs": [],
   "source": [
    "tbl_sample = session.sql('SELECT * FROM LINEITEM LIMIT 25')"
   ]
  },
  {
   "cell_type": "code",
   "execution_count": 227,
   "id": "2b32c766-d1a2-4de1-ba14-4f4a70db2adc",
   "metadata": {
    "tags": []
   },
   "outputs": [
    {
     "data": {
      "text/plain": [
       "list"
      ]
     },
     "metadata": {},
     "output_type": "display_data"
    },
    {
     "data": {
      "text/plain": [
       "[Row(L_ORDERKEY=52007138, L_PARTKEY=1431204, L_SUPPKEY=56219, L_LINENUMBER=1, L_QUANTITY=Decimal('7.00'), L_EXTENDEDPRICE=Decimal('7945.91'), L_DISCOUNT=Decimal('0.00'), L_TAX=Decimal('0.06'), L_RETURNFLAG='A', L_LINESTATUS='F', L_SHIPDATE=datetime.date(1994, 12, 23), L_COMMITDATE=datetime.date(1994, 11, 28), L_RECEIPTDATE=datetime.date(1995, 1, 2), L_SHIPINSTRUCT='COLLECT COD', L_SHIPMODE='REG AIR', L_COMMENT='ular packa'),\n",
       " Row(L_ORDERKEY=52007138, L_PARTKEY=243770, L_SUPPKEY=68773, L_LINENUMBER=2, L_QUANTITY=Decimal('27.00'), L_EXTENDEDPRICE=Decimal('46271.52'), L_DISCOUNT=Decimal('0.01'), L_TAX=Decimal('0.03'), L_RETURNFLAG='R', L_LINESTATUS='F', L_SHIPDATE=datetime.date(1994, 11, 3), L_COMMITDATE=datetime.date(1994, 12, 13), L_RECEIPTDATE=datetime.date(1994, 11, 5), L_SHIPINSTRUCT='DELIVER IN PERSON', L_SHIPMODE='FOB', L_COMMENT=' the express, regu'),\n",
       " Row(L_ORDERKEY=52007138, L_PARTKEY=1026811, L_SUPPKEY=1842, L_LINENUMBER=3, L_QUANTITY=Decimal('22.00'), L_EXTENDEDPRICE=Decimal('38230.72'), L_DISCOUNT=Decimal('0.03'), L_TAX=Decimal('0.05'), L_RETURNFLAG='R', L_LINESTATUS='F', L_SHIPDATE=datetime.date(1995, 1, 4), L_COMMITDATE=datetime.date(1994, 11, 30), L_RECEIPTDATE=datetime.date(1995, 1, 15), L_SHIPINSTRUCT='DELIVER IN PERSON', L_SHIPMODE='MAIL', L_COMMENT='he furious'),\n",
       " Row(L_ORDERKEY=52007138, L_PARTKEY=1605770, L_SUPPKEY=5771, L_LINENUMBER=4, L_QUANTITY=Decimal('47.00'), L_EXTENDEDPRICE=Decimal('78757.43'), L_DISCOUNT=Decimal('0.09'), L_TAX=Decimal('0.06'), L_RETURNFLAG='R', L_LINESTATUS='F', L_SHIPDATE=datetime.date(1994, 10, 25), L_COMMITDATE=datetime.date(1994, 12, 10), L_RECEIPTDATE=datetime.date(1994, 11, 6), L_SHIPINSTRUCT='DELIVER IN PERSON', L_SHIPMODE='FOB', L_COMMENT='nts. furiously ironic theo'),\n",
       " Row(L_ORDERKEY=52007139, L_PARTKEY=1908893, L_SUPPKEY=33913, L_LINENUMBER=1, L_QUANTITY=Decimal('23.00'), L_EXTENDEDPRICE=Decimal('43741.40'), L_DISCOUNT=Decimal('0.04'), L_TAX=Decimal('0.02'), L_RETURNFLAG='N', L_LINESTATUS='O', L_SHIPDATE=datetime.date(1996, 7, 3), L_COMMITDATE=datetime.date(1996, 7, 8), L_RECEIPTDATE=datetime.date(1996, 7, 9), L_SHIPINSTRUCT='TAKE BACK RETURN', L_SHIPMODE='SHIP', L_COMMENT='he carefully ironic deposits')]"
      ]
     },
     "metadata": {},
     "output_type": "display_data"
    }
   ],
   "source": [
    "list_of_rows = tbl_sample.collect()\n",
    "display(type(list_of_rows), list_of_rows[:5])"
   ]
  },
  {
   "cell_type": "markdown",
   "id": "6998c5f5-c46c-4e09-a85e-20febebb0914",
   "metadata": {},
   "source": [
    "## Basic transformations"
   ]
  },
  {
   "cell_type": "code",
   "execution_count": 228,
   "id": "e751c631-328f-46ce-9a63-52d55966643c",
   "metadata": {
    "tags": []
   },
   "outputs": [
    {
     "data": {
      "text/plain": [
       "snowflake.snowpark.table.Table"
      ]
     },
     "execution_count": 228,
     "metadata": {},
     "output_type": "execute_result"
    }
   ],
   "source": [
    "type(tbl)"
   ]
  },
  {
   "cell_type": "code",
   "execution_count": 229,
   "id": "85a4934c-4ff0-4b3b-96fb-de8b9f81ef16",
   "metadata": {
    "tags": []
   },
   "outputs": [
    {
     "data": {
      "text/plain": [
       "{'queries': ['SELECT  *  FROM (LINEITEM)'], 'post_actions': []}"
      ]
     },
     "execution_count": 229,
     "metadata": {},
     "output_type": "execute_result"
    }
   ],
   "source": [
    "tbl.queries"
   ]
  },
  {
   "cell_type": "code",
   "execution_count": 230,
   "id": "3f3af0ef-aa11-4643-bfaa-a241338093d9",
   "metadata": {
    "tags": []
   },
   "outputs": [
    {
     "name": "stdout",
     "output_type": "stream",
     "text": [
      "------------------------------------------------------------------------------------------------------------------------------------------------------------------------------------------------------------------------------------------------------------------------------------------\n",
      "|\"L_ORDERKEY\"  |\"L_PARTKEY\"  |\"L_SUPPKEY\"  |\"L_LINENUMBER\"  |\"L_QUANTITY\"  |\"L_EXTENDEDPRICE\"  |\"L_DISCOUNT\"  |\"L_TAX\"  |\"L_RETURNFLAG\"  |\"L_LINESTATUS\"  |\"L_SHIPDATE\"  |\"L_COMMITDATE\"  |\"L_RECEIPTDATE\"  |\"L_SHIPINSTRUCT\"  |\"L_SHIPMODE\"  |\"L_COMMENT\"                               |\n",
      "------------------------------------------------------------------------------------------------------------------------------------------------------------------------------------------------------------------------------------------------------------------------------------------\n",
      "|55014720      |1324613      |74640        |6               |24.00         |39301.20           |0.04          |0.08     |R               |F               |1993-09-21    |1993-09-06      |1993-10-05       |NONE              |SHIP          |aringly pending ideas abo                 |\n",
      "|55014721      |609128       |84147        |1               |24.00         |24890.16           |0.08          |0.01     |N               |O               |1997-01-19    |1996-12-26      |1997-02-07       |NONE              |RAIL          |its wake. furiously regular accounts are  |\n",
      "------------------------------------------------------------------------------------------------------------------------------------------------------------------------------------------------------------------------------------------------------------------------------------------\n",
      "\n"
     ]
    }
   ],
   "source": [
    "tbl.show(2)"
   ]
  },
  {
   "cell_type": "markdown",
   "id": "3ace1935-27ad-4e1c-895c-95a0b79502cd",
   "metadata": {},
   "source": [
    "### Select columns"
   ]
  },
  {
   "cell_type": "code",
   "execution_count": 231,
   "id": "e836d709-e24c-4a9f-ac86-07e846c5b014",
   "metadata": {
    "tags": []
   },
   "outputs": [
    {
     "name": "stdout",
     "output_type": "stream",
     "text": [
      "---------------------------------------------------------------------------------\n",
      "|\"L_SHIPDATE\"  |\"L_EXTENDEDPRICE\"  |\"L_SHIPMODE\"  |\"L_QUANTITY\"  |\"L_DISCOUNT\"  |\n",
      "---------------------------------------------------------------------------------\n",
      "|1997-05-11    |22322.58           |REG AIR       |14.00         |0.09          |\n",
      "|1998-05-06    |54706.75           |SHIP          |43.00         |0.06          |\n",
      "|1998-06-22    |38772.96           |AIR           |24.00         |0.07          |\n",
      "|1998-05-08    |3036.90            |FOB           |2.00          |0.03          |\n",
      "|1998-07-21    |55745.04           |TRUCK         |34.00         |0.05          |\n",
      "---------------------------------------------------------------------------------\n",
      "\n"
     ]
    }
   ],
   "source": [
    "(tbl\n",
    " .select(\"L_SHIPDATE\",\"L_EXTENDEDPRICE\",\"L_SHIPMODE\",\"L_QUANTITY\",\"L_DISCOUNT\")\n",
    " .show(5)\n",
    ")"
   ]
  },
  {
   "cell_type": "markdown",
   "id": "9e4d7cd4-d5c2-4d9f-b7ce-61ee62d56606",
   "metadata": {},
   "source": [
    "### Filter"
   ]
  },
  {
   "cell_type": "code",
   "execution_count": 232,
   "id": "6534958e-cd7a-458d-8119-558b4d5d0fb6",
   "metadata": {
    "tags": []
   },
   "outputs": [
    {
     "name": "stdout",
     "output_type": "stream",
     "text": [
      "---------------------------------------------------------------------------------\n",
      "|\"L_SHIPDATE\"  |\"L_EXTENDEDPRICE\"  |\"L_SHIPMODE\"  |\"L_QUANTITY\"  |\"L_DISCOUNT\"  |\n",
      "---------------------------------------------------------------------------------\n",
      "|1997-04-22    |77110.75           |SHIP          |41.00         |0.09          |\n",
      "|1997-02-13    |9694.30            |TRUCK         |5.00          |0.00          |\n",
      "|1997-05-07    |37740.00           |AIR           |34.00         |0.04          |\n",
      "|1997-04-24    |40986.66           |TRUCK         |39.00         |0.02          |\n",
      "|1997-06-13    |87544.80           |AIR           |48.00         |0.05          |\n",
      "|1997-04-16    |21416.01           |AIR           |11.00         |0.06          |\n",
      "|1997-05-06    |13022.40           |SHIP          |10.00         |0.01          |\n",
      "|1997-12-15    |61907.54           |MAIL          |34.00         |0.00          |\n",
      "|1997-01-01    |28826.75           |REG AIR       |25.00         |0.08          |\n",
      "|1997-02-05    |1129.12            |AIR           |1.00          |0.04          |\n",
      "---------------------------------------------------------------------------------\n",
      "\n"
     ]
    }
   ],
   "source": [
    "tbl_1997 = (\n",
    "    tbl\n",
    "    .select(\"L_SHIPDATE\",\"L_EXTENDEDPRICE\",\"L_SHIPMODE\",\"L_QUANTITY\",\"L_DISCOUNT\")\n",
    "    .filter(F.col(\"L_SHIPDATE\").between(date(1997,1,1), date(1997,12,31)))\n",
    ")\n",
    "\n",
    "tbl_1997.show(10)"
   ]
  },
  {
   "cell_type": "markdown",
   "id": "c8d20e78-73d3-48be-b15e-3d955422c911",
   "metadata": {},
   "source": [
    "### Sort"
   ]
  },
  {
   "cell_type": "code",
   "execution_count": 233,
   "id": "7695f88f-89e7-48c7-bafc-d292e517c914",
   "metadata": {
    "tags": []
   },
   "outputs": [
    {
     "name": "stdout",
     "output_type": "stream",
     "text": [
      "---------------------------------------------------------------------------------\n",
      "|\"L_SHIPDATE\"  |\"L_EXTENDEDPRICE\"  |\"L_SHIPMODE\"  |\"L_QUANTITY\"  |\"L_DISCOUNT\"  |\n",
      "---------------------------------------------------------------------------------\n",
      "|1997-01-01    |56055.00           |AIR           |50.00         |0.06          |\n",
      "|1997-01-01    |29260.26           |TRUCK         |18.00         |0.02          |\n",
      "|1997-01-01    |51487.24           |FOB           |28.00         |0.02          |\n",
      "|1997-01-01    |28826.75           |REG AIR       |25.00         |0.08          |\n",
      "|1997-01-01    |31547.58           |RAIL          |17.00         |0.06          |\n",
      "|1997-01-01    |23226.59           |AIR           |17.00         |0.10          |\n",
      "|1997-01-01    |66826.40           |REG AIR       |40.00         |0.07          |\n",
      "|1997-01-01    |66250.10           |AIR           |35.00         |0.04          |\n",
      "|1997-01-01    |66943.60           |REG AIR       |40.00         |0.00          |\n",
      "|1997-01-01    |30299.74           |FOB           |23.00         |0.07          |\n",
      "---------------------------------------------------------------------------------\n",
      "\n"
     ]
    }
   ],
   "source": [
    "(tbl_1997\n",
    " .sort('L_SHIPDATE')\n",
    " .show()\n",
    ")"
   ]
  },
  {
   "cell_type": "markdown",
   "id": "05b9578d-a9f0-443e-ab59-e35442cb4eee",
   "metadata": {},
   "source": [
    "### Create a column"
   ]
  },
  {
   "cell_type": "markdown",
   "id": "c71885e6-798e-498b-a105-33f810c6e0ec",
   "metadata": {},
   "source": [
    "Create a string literal column"
   ]
  },
  {
   "cell_type": "code",
   "execution_count": 234,
   "id": "84724004-342b-47a7-81db-d40020d523d7",
   "metadata": {
    "tags": []
   },
   "outputs": [
    {
     "name": "stdout",
     "output_type": "stream",
     "text": [
      "------------------------------------------------------------------------------------------\n",
      "|\"L_SHIPDATE\"  |\"L_EXTENDEDPRICE\"  |\"L_SHIPMODE\"  |\"L_QUANTITY\"  |\"L_DISCOUNT\"  |\"TEST\"  |\n",
      "------------------------------------------------------------------------------------------\n",
      "|1997-07-03    |5565.55            |SHIP          |5.00          |0.01          |test    |\n",
      "|1997-05-19    |37692.77           |RAIL          |19.00         |0.04          |test    |\n",
      "|1997-08-10    |7186.76            |RAIL          |4.00          |0.09          |test    |\n",
      "|1997-07-11    |38499.52           |FOB           |32.00         |0.00          |test    |\n",
      "|1997-06-11    |91459.65           |REG AIR       |47.00         |0.07          |test    |\n",
      "------------------------------------------------------------------------------------------\n",
      "\n"
     ]
    }
   ],
   "source": [
    "(tbl_1997\n",
    " .with_column(\"TEST\", F.lit('test'))\n",
    " .show(5)\n",
    ")"
   ]
  },
  {
   "cell_type": "markdown",
   "id": "c5b21d39-c8bd-4481-8f17-143a23b0d21b",
   "metadata": {},
   "source": [
    "Create a numeric column"
   ]
  },
  {
   "cell_type": "code",
   "execution_count": 235,
   "id": "7e3eeee3-b914-4d9b-81dd-06845637a1bd",
   "metadata": {
    "tags": []
   },
   "outputs": [
    {
     "name": "stdout",
     "output_type": "stream",
     "text": [
      "------------------------------------------------------------------------------------------\n",
      "|\"L_SHIPDATE\"  |\"L_EXTENDEDPRICE\"  |\"L_SHIPMODE\"  |\"L_QUANTITY\"  |\"L_DISCOUNT\"  |\"TEST\"  |\n",
      "------------------------------------------------------------------------------------------\n",
      "|1997-07-25    |41599.11           |RAIL          |21.00         |0.02          |100     |\n",
      "|1997-08-13    |7252.15            |AIR           |5.00          |0.10          |100     |\n",
      "|1997-09-27    |19741.41           |TRUCK         |13.00         |0.08          |100     |\n",
      "|1997-09-13    |1946.96            |REG AIR       |1.00          |0.07          |100     |\n",
      "|1997-08-14    |49351.95           |SHIP          |27.00         |0.01          |100     |\n",
      "------------------------------------------------------------------------------------------\n",
      "\n"
     ]
    }
   ],
   "source": [
    "(tbl_1997\n",
    " .with_column(\"TEST\", F.lit(100))\n",
    " .show(5)\n",
    ")"
   ]
  },
  {
   "cell_type": "markdown",
   "id": "830d49d1-0e83-48a3-90e4-a05a5dd3adbc",
   "metadata": {
    "tags": []
   },
   "source": [
    "TOTAL_REVENUE = (L_EXTENDEDPRICE - (L_EXTENDEDPRICE * L_DISCOUNT)) * L_QUANTITY)"
   ]
  },
  {
   "cell_type": "markdown",
   "id": "9fbc24a1-f374-417e-82bd-e703807af19b",
   "metadata": {},
   "source": [
    "Create multiple columns"
   ]
  },
  {
   "cell_type": "code",
   "execution_count": 236,
   "id": "6c36ae51-e67a-44e7-9b4a-5f0a81f9506c",
   "metadata": {
    "tags": []
   },
   "outputs": [
    {
     "name": "stdout",
     "output_type": "stream",
     "text": [
      "-----------------------------------------------------------------------------------------------------\n",
      "|\"L_SHIPDATE\"  |\"L_EXTENDEDPRICE\"  |\"L_SHIPMODE\"  |\"L_QUANTITY\"  |\"L_DISCOUNT\"  |\"TEST1\"  |\"TEST2\"  |\n",
      "-----------------------------------------------------------------------------------------------------\n",
      "|1997-01-19    |24890.16           |RAIL          |24.00         |0.08          |1        |new      |\n",
      "|1997-01-08    |79361.55           |SHIP          |45.00         |0.00          |1        |new      |\n",
      "|1997-06-15    |48765.82           |RAIL          |29.00         |0.01          |1        |new      |\n",
      "|1997-07-19    |28639.39           |RAIL          |17.00         |0.06          |1        |new      |\n",
      "|1997-10-20    |82977.50           |SHIP          |50.00         |0.03          |1        |new      |\n",
      "|1997-12-14    |35014.97           |RAIL          |23.00         |0.06          |1        |new      |\n",
      "|1997-11-21    |18798.96           |RAIL          |12.00         |0.02          |1        |new      |\n",
      "|1997-12-16    |15526.14           |MAIL          |14.00         |0.04          |1        |new      |\n",
      "|1997-08-22    |27634.18           |SHIP          |14.00         |0.06          |1        |new      |\n",
      "|1997-09-17    |3803.72            |FOB           |2.00          |0.00          |1        |new      |\n",
      "-----------------------------------------------------------------------------------------------------\n",
      "\n"
     ]
    }
   ],
   "source": [
    "(tbl_1997\n",
    " .with_columns(['TEST1','TEST2'],\n",
    "               [F.lit(1),F.lit('new')])\n",
    " .show()\n",
    ")"
   ]
  },
  {
   "cell_type": "markdown",
   "id": "4c9f6a51-3cf9-4593-b57b-e5c920b18e29",
   "metadata": {},
   "source": [
    "Create column using an expression\n",
    "\n",
    "TOTAL_REVENUE = (L_EXTENDEDPRICE - (L_EXTENDEDPRICE * L_DISCOUNT)) * L_QUANTITY)"
   ]
  },
  {
   "cell_type": "code",
   "execution_count": 237,
   "id": "1c671161-ba54-4a76-a204-eaee195aa06d",
   "metadata": {
    "tags": []
   },
   "outputs": [
    {
     "name": "stdout",
     "output_type": "stream",
     "text": [
      "--------------------------------------------------------------------------------------------------\n",
      "|\"L_SHIPDATE\"  |\"L_EXTENDEDPRICE\"  |\"L_SHIPMODE\"  |\"L_QUANTITY\"  |\"L_DISCOUNT\"  |\"REVENUE\"       |\n",
      "--------------------------------------------------------------------------------------------------\n",
      "|1997-07-25    |41599.11           |RAIL          |21.00         |0.02          |24127.483800    |\n",
      "|1997-08-13    |7252.15            |AIR           |5.00          |0.10          |3626.075000     |\n",
      "|1997-09-27    |19741.41           |TRUCK         |13.00         |0.08          |-789.656400     |\n",
      "|1997-09-13    |1946.96            |REG AIR       |1.00          |0.07          |1810.672800     |\n",
      "|1997-08-14    |49351.95           |SHIP          |27.00         |0.01          |36026.923500    |\n",
      "|1997-10-19    |53063.91           |MAIL          |29.00         |0.09          |-85432.895100   |\n",
      "|1997-01-18    |11737.11           |FOB           |11.00         |0.01          |10446.027900    |\n",
      "|1997-01-01    |14798.88           |MAIL          |8.00          |0.01          |13614.969600    |\n",
      "|1997-01-02    |88412.16           |AIR           |48.00         |0.07          |-208652.697600  |\n",
      "|1997-11-30    |17472.62           |SHIP          |11.00         |0.08          |2096.714400     |\n",
      "--------------------------------------------------------------------------------------------------\n",
      "\n"
     ]
    }
   ],
   "source": [
    "finaltbl_1997 = (\n",
    " tbl_1997\n",
    " .select([\"L_SHIPDATE\",\"L_EXTENDEDPRICE\",\"L_SHIPMODE\",\"L_QUANTITY\",\"L_DISCOUNT\"])\n",
    " .with_column(\"REVENUE\",(F.col('L_EXTENDEDPRICE') - (F.col(\"L_EXTENDEDPRICE\") * F.col(\"L_DISCOUNT\")) * F.col(\"L_QUANTITY\")))\n",
    ")\n",
    "\n",
    "finaltbl_1997.show()"
   ]
  },
  {
   "cell_type": "markdown",
   "id": "bcc979f5-2eb6-44c4-9350-48f55645df13",
   "metadata": {},
   "source": [
    "## Group by "
   ]
  },
  {
   "cell_type": "code",
   "execution_count": 238,
   "id": "9ef51656-5230-45ad-bf26-97aadc7628e9",
   "metadata": {
    "tags": []
   },
   "outputs": [
    {
     "data": {
      "text/plain": [
       "{'queries': ['SELECT \"L_SHIPDATE\", \"L_EXTENDEDPRICE\", \"L_SHIPMODE\", \"L_QUANTITY\", \"L_DISCOUNT\", (\"L_EXTENDEDPRICE\" - ((\"L_EXTENDEDPRICE\" * \"L_DISCOUNT\") * \"L_QUANTITY\")) AS \"REVENUE\" FROM LINEITEM WHERE ((\"L_SHIPDATE\" >= DATE \\'1997-01-01\\') AND (\"L_SHIPDATE\" <= DATE \\'1997-12-31\\'))'],\n",
       " 'post_actions': []}"
      ]
     },
     "execution_count": 238,
     "metadata": {},
     "output_type": "execute_result"
    }
   ],
   "source": [
    "finaltbl_1997.queries"
   ]
  },
  {
   "cell_type": "code",
   "execution_count": 239,
   "id": "9c0ebf61-98ee-483a-9f13-010a2be94fde",
   "metadata": {
    "tags": []
   },
   "outputs": [
    {
     "name": "stdout",
     "output_type": "stream",
     "text": [
      "---------------------------------------\n",
      "|\"L_SHIPMODE\"  |\"TOTAL_REVENUE_1997\"  |\n",
      "---------------------------------------\n",
      "|TRUCK         |-33997986770.683300   |\n",
      "|SHIP          |-34025174530.819000   |\n",
      "|MAIL          |-33969888960.370700   |\n",
      "|RAIL          |-34104351362.659000   |\n",
      "|AIR           |-34048584858.305300   |\n",
      "|FOB           |-33792875137.023700   |\n",
      "|REG AIR       |-33883815844.822900   |\n",
      "---------------------------------------\n",
      "\n"
     ]
    }
   ],
   "source": [
    "tbl_1997_shipmode = (\n",
    "    finaltbl_1997\n",
    "    .group_by('L_SHIPMODE')\n",
    "    .agg(F.sum('REVENUE').alias('TOTAL_REVENUE_1997'))\n",
    ")\n",
    "\n",
    "tbl_1997_shipmode.show()"
   ]
  },
  {
   "cell_type": "markdown",
   "id": "8f5cf3b1-58b9-4bc5-8623-abfa013c8e57",
   "metadata": {},
   "source": [
    "## Joins"
   ]
  },
  {
   "cell_type": "code",
   "execution_count": 240,
   "id": "c8593dfe-ab18-49c2-b0fd-07ef36fd04b7",
   "metadata": {
    "tags": []
   },
   "outputs": [
    {
     "name": "stdout",
     "output_type": "stream",
     "text": [
      "-------------------------------------------------------------------------------------------------\n",
      "|\"L_SHIPDATE\"  |\"L_EXTENDEDPRICE\"  |\"L_SHIPMODE\"  |\"L_QUANTITY\"  |\"L_DISCOUNT\"  |\"REVENUE\"      |\n",
      "-------------------------------------------------------------------------------------------------\n",
      "|1998-05-06    |54706.75           |SHIP          |43.00         |0.06          |-86436.665000  |\n",
      "|1998-06-22    |38772.96           |AIR           |24.00         |0.07          |-26365.612800  |\n",
      "|1998-05-08    |3036.90            |FOB           |2.00          |0.03          |2854.686000    |\n",
      "|1998-07-21    |55745.04           |TRUCK         |34.00         |0.05          |-39021.528000  |\n",
      "|1998-05-17    |45517.23           |TRUCK         |33.00         |0.04          |-14565.513600  |\n",
      "|1998-07-26    |31070.72           |AIR           |32.00         |0.08          |-48470.323200  |\n",
      "|1998-05-13    |15576.47           |RAIL          |13.00         |0.10          |-4672.941000   |\n",
      "|1998-07-01    |29399.04           |SHIP          |22.00         |0.06          |-9407.692800   |\n",
      "|1998-04-26    |2402.24            |RAIL          |2.00          |0.03          |2258.105600    |\n",
      "|1998-05-10    |2722.54            |FOB           |2.00          |0.06          |2395.835200    |\n",
      "-------------------------------------------------------------------------------------------------\n",
      "\n"
     ]
    }
   ],
   "source": [
    "selectCols = ['L_SHIPDATE','L_EXTENDEDPRICE','L_SHIPMODE','L_QUANTITY','L_DISCOUNT']\n",
    "\n",
    "finaltbl_1998 = (\n",
    "    session\n",
    "    .table('LINEITEM')\n",
    "    .select(selectCols)\n",
    "    .filter(F.col('L_SHIPDATE').between(date(1998,1,1), date(1998,12,31)))\n",
    "    .with_column(\"REVENUE\",(F.col('L_EXTENDEDPRICE') - (F.col(\"L_EXTENDEDPRICE\") * F.col(\"L_DISCOUNT\")) * F.col(\"L_QUANTITY\")))\n",
    "\n",
    ")\n",
    "\n",
    "finaltbl_1998.show()"
   ]
  },
  {
   "cell_type": "code",
   "execution_count": 241,
   "id": "ecff1e53-6dca-4690-9210-e8551c6b9507",
   "metadata": {
    "tags": []
   },
   "outputs": [
    {
     "name": "stdout",
     "output_type": "stream",
     "text": [
      "---------------------------------------\n",
      "|\"L_SHIPMODE\"  |\"TOTAL_REVENUE_1998\"  |\n",
      "---------------------------------------\n",
      "|AIR           |-25725641625.386000   |\n",
      "|TRUCK         |-25589978955.784000   |\n",
      "|MAIL          |-25514188715.499700   |\n",
      "|SHIP          |-25565441916.584500   |\n",
      "|RAIL          |-25534756190.430000   |\n",
      "|REG AIR       |-25490428550.808400   |\n",
      "|FOB           |-25502466911.912000   |\n",
      "---------------------------------------\n",
      "\n"
     ]
    }
   ],
   "source": [
    "tbl_1998_shipmode = (\n",
    "    finaltbl_1998\n",
    "    .group_by('L_SHIPMODE')\n",
    "    .agg(F.sum('REVENUE').alias('TOTAL_REVENUE_1998'))\n",
    ")\n",
    "\n",
    "tbl_1998_shipmode.show()"
   ]
  },
  {
   "cell_type": "code",
   "execution_count": 242,
   "id": "1f2425f5-85ea-440a-bf54-8b49f2170555",
   "metadata": {
    "tags": []
   },
   "outputs": [
    {
     "name": "stdout",
     "output_type": "stream",
     "text": [
      "-------------------------------------------------------------------------------------------\n",
      "|\"l_75vg_L_SHIPMODE\"  |\"TOTAL_REVENUE_1997\"  |\"r_l8zv_L_SHIPMODE\"  |\"TOTAL_REVENUE_1998\"  |\n",
      "-------------------------------------------------------------------------------------------\n",
      "|RAIL                 |-34104351362.659000   |RAIL                 |-25534756190.430000   |\n",
      "|SHIP                 |-34025174530.819000   |SHIP                 |-25565441916.584500   |\n",
      "|MAIL                 |-33969888960.370700   |MAIL                 |-25514188715.499700   |\n",
      "|TRUCK                |-33997986770.683300   |TRUCK                |-25589978955.784000   |\n",
      "|REG AIR              |-33883815844.822900   |REG AIR              |-25490428550.808400   |\n",
      "|FOB                  |-33792875137.023700   |FOB                  |-25502466911.912000   |\n",
      "|AIR                  |-34048584858.305300   |AIR                  |-25725641625.386000   |\n",
      "-------------------------------------------------------------------------------------------\n",
      "\n"
     ]
    }
   ],
   "source": [
    "(tbl_1997_shipmode\n",
    " .join(tbl_1998_shipmode, \n",
    "       on = tbl_1997_shipmode['L_SHIPMODE'] == tbl_1998_shipmode['L_SHIPMODE'],\n",
    "       how = 'INNER', )\n",
    " .show())"
   ]
  },
  {
   "cell_type": "code",
   "execution_count": 243,
   "id": "8c6c4532-22a9-4a85-a27f-17306cc19228",
   "metadata": {
    "tags": []
   },
   "outputs": [
    {
     "name": "stdout",
     "output_type": "stream",
     "text": [
      "--------------------------------------------------------------\n",
      "|\"L_SHIPMODE\"  |\"TOTAL_REVENUE_1997\"  |\"TOTAL_REVENUE_1998\"  |\n",
      "--------------------------------------------------------------\n",
      "|FOB           |-33792875137.023700   |-25502466911.912000   |\n",
      "|TRUCK         |-33997986770.683300   |-25589978955.784000   |\n",
      "|AIR           |-34048584858.305300   |-25725641625.386000   |\n",
      "|MAIL          |-33969888960.370700   |-25514188715.499700   |\n",
      "|SHIP          |-34025174530.819000   |-25565441916.584500   |\n",
      "|RAIL          |-34104351362.659000   |-25534756190.430000   |\n",
      "|REG AIR       |-33883815844.822900   |-25490428550.808400   |\n",
      "--------------------------------------------------------------\n",
      "\n"
     ]
    }
   ],
   "source": [
    "(tbl_1997_shipmode\n",
    " .join(tbl_1998_shipmode, \n",
    "       on = tbl_1997_shipmode['L_SHIPMODE'] == tbl_1998_shipmode['L_SHIPMODE'],\n",
    "       how = 'INNER', )\n",
    " .select(\n",
    "     tbl_1997_shipmode.col('L_SHIPMODE').alias('L_SHIPMODE'),\n",
    "     tbl_1997_shipmode.col('TOTAL_REVENUE_1997'),\n",
    "     tbl_1998_shipmode.col('TOTAL_REVENUE_1998')\n",
    " )\n",
    " .show()\n",
    ")"
   ]
  },
  {
   "cell_type": "code",
   "execution_count": 244,
   "id": "213e6640-39dd-45d2-9042-86b081ff5a22",
   "metadata": {
    "tags": []
   },
   "outputs": [
    {
     "name": "stdout",
     "output_type": "stream",
     "text": [
      "--------------------------------------------------------------\n",
      "|\"L_SHIPMODE\"  |\"TOTAL_REVENUE_1997\"  |\"TOTAL_REVENUE_1998\"  |\n",
      "--------------------------------------------------------------\n",
      "|SHIP          |-34025174530.819000   |-25565441916.584500   |\n",
      "|RAIL          |-34104351362.659000   |-25534756190.430000   |\n",
      "|MAIL          |-33969888960.370700   |-25514188715.499700   |\n",
      "|AIR           |-34048584858.305300   |-25725641625.386000   |\n",
      "|TRUCK         |-33997986770.683300   |-25589978955.784000   |\n",
      "|FOB           |-33792875137.023700   |-25502466911.912000   |\n",
      "|REG AIR       |-33883815844.822900   |-25490428550.808400   |\n",
      "--------------------------------------------------------------\n",
      "\n"
     ]
    }
   ],
   "source": [
    "join_shipmodes_revenue = (\n",
    "    tbl_1997_shipmode\n",
    "    .join(tbl_1998_shipmode, \n",
    "          on = tbl_1997_shipmode['L_SHIPMODE'] == tbl_1998_shipmode['L_SHIPMODE'],\n",
    "          how = 'INNER')\n",
    "    .select(\n",
    "         tbl_1997_shipmode.col('L_SHIPMODE').alias('L_SHIPMODE'),\n",
    "         tbl_1997_shipmode.col('TOTAL_REVENUE_1997'),\n",
    "         tbl_1998_shipmode.col('TOTAL_REVENUE_1998')\n",
    "     )\n",
    ")\n",
    "\n",
    "join_shipmodes_revenue.show()"
   ]
  },
  {
   "cell_type": "markdown",
   "id": "baac8476-f027-4aaf-9a5e-b555b3e4ad9e",
   "metadata": {},
   "source": [
    "## Create an array column"
   ]
  },
  {
   "cell_type": "code",
   "execution_count": 245,
   "id": "2d43df66-3b1e-4c50-b1f1-e2d3a679278e",
   "metadata": {
    "tags": []
   },
   "outputs": [
    {
     "name": "stdout",
     "output_type": "stream",
     "text": [
      "-------------------------------------------------------------------------------------\n",
      "|\"L_SHIPMODE\"  |\"TOTAL_REVENUE_1997\"  |\"TOTAL_REVENUE_1998\"  |\"TOTALS\"              |\n",
      "-------------------------------------------------------------------------------------\n",
      "|SHIP          |-34025174530.819000   |-25565441916.584500   |[                     |\n",
      "|              |                      |                      |  -34025174530.819,   |\n",
      "|              |                      |                      |  -25565441916.5845   |\n",
      "|              |                      |                      |]                     |\n",
      "|MAIL          |-33969888960.370700   |-25514188715.499700   |[                     |\n",
      "|              |                      |                      |  -33969888960.3707,  |\n",
      "|              |                      |                      |  -25514188715.4997   |\n",
      "|              |                      |                      |]                     |\n",
      "|RAIL          |-34104351362.659000   |-25534756190.430000   |[                     |\n",
      "|              |                      |                      |  -34104351362.659,   |\n",
      "|              |                      |                      |  -25534756190.43     |\n",
      "|              |                      |                      |]                     |\n",
      "|AIR           |-34048584858.305300   |-25725641625.386000   |[                     |\n",
      "|              |                      |                      |  -34048584858.3053,  |\n",
      "|              |                      |                      |  -25725641625.386    |\n",
      "|              |                      |                      |]                     |\n",
      "|TRUCK         |-33997986770.683300   |-25589978955.784000   |[                     |\n",
      "|              |                      |                      |  -33997986770.6833,  |\n",
      "|              |                      |                      |  -25589978955.784    |\n",
      "|              |                      |                      |]                     |\n",
      "|FOB           |-33792875137.023700   |-25502466911.912000   |[                     |\n",
      "|              |                      |                      |  -33792875137.0237,  |\n",
      "|              |                      |                      |  -25502466911.912    |\n",
      "|              |                      |                      |]                     |\n",
      "|REG AIR       |-33883815844.822900   |-25490428550.808400   |[                     |\n",
      "|              |                      |                      |  -33883815844.8229,  |\n",
      "|              |                      |                      |  -25490428550.8084   |\n",
      "|              |                      |                      |]                     |\n",
      "-------------------------------------------------------------------------------------\n",
      "\n"
     ]
    }
   ],
   "source": [
    "(join_shipmodes_revenue\n",
    " .with_column('TOTALS', F.array_construct(F.col('TOTAL_REVENUE_1997'), F.col('TOTAL_REVENUE_1998')))\n",
    " .show()\n",
    ")"
   ]
  },
  {
   "cell_type": "markdown",
   "id": "27050d50-626a-4fb3-a3ab-88652077bf88",
   "metadata": {},
   "source": [
    "## Concat column literal"
   ]
  },
  {
   "cell_type": "code",
   "execution_count": 246,
   "id": "8f46f12e-f943-4e89-a1f6-cd1ec1071889",
   "metadata": {
    "tags": []
   },
   "outputs": [
    {
     "name": "stdout",
     "output_type": "stream",
     "text": [
      "-------------------------------------------------------------------------------------------------------------------\n",
      "|\"L_SHIPMODE\"  |\"TOTAL_REVENUE_1997\"  |\"TOTAL_REVENUE_1998\"  |\"TOTALS\"              |\"COMMENT\"                    |\n",
      "-------------------------------------------------------------------------------------------------------------------\n",
      "|TRUCK         |-33997986770.683300   |-25589978955.784000   |[                     |Logic was created by PSTYLS  |\n",
      "|              |                      |                      |  -33997986770.6833,  |                             |\n",
      "|              |                      |                      |  -25589978955.784    |                             |\n",
      "|              |                      |                      |]                     |                             |\n",
      "|SHIP          |-34025174530.819000   |-25565441916.584500   |[                     |Logic was created by PSTYLS  |\n",
      "|              |                      |                      |  -34025174530.819,   |                             |\n",
      "|              |                      |                      |  -25565441916.5845   |                             |\n",
      "|              |                      |                      |]                     |                             |\n",
      "|MAIL          |-33969888960.370700   |-25514188715.499700   |[                     |Logic was created by PSTYLS  |\n",
      "|              |                      |                      |  -33969888960.3707,  |                             |\n",
      "|              |                      |                      |  -25514188715.4997   |                             |\n",
      "|              |                      |                      |]                     |                             |\n",
      "|RAIL          |-34104351362.659000   |-25534756190.430000   |[                     |Logic was created by PSTYLS  |\n",
      "|              |                      |                      |  -34104351362.659,   |                             |\n",
      "|              |                      |                      |  -25534756190.43     |                             |\n",
      "|              |                      |                      |]                     |                             |\n",
      "|AIR           |-34048584858.305300   |-25725641625.386000   |[                     |Logic was created by PSTYLS  |\n",
      "|              |                      |                      |  -34048584858.3053,  |                             |\n",
      "|              |                      |                      |  -25725641625.386    |                             |\n",
      "|              |                      |                      |]                     |                             |\n",
      "|FOB           |-33792875137.023700   |-25502466911.912000   |[                     |Logic was created by PSTYLS  |\n",
      "|              |                      |                      |  -33792875137.0237,  |                             |\n",
      "|              |                      |                      |  -25502466911.912    |                             |\n",
      "|              |                      |                      |]                     |                             |\n",
      "|REG AIR       |-33883815844.822900   |-25490428550.808400   |[                     |Logic was created by PSTYLS  |\n",
      "|              |                      |                      |  -33883815844.8229,  |                             |\n",
      "|              |                      |                      |  -25490428550.8084   |                             |\n",
      "|              |                      |                      |]                     |                             |\n",
      "-------------------------------------------------------------------------------------------------------------------\n",
      "\n"
     ]
    }
   ],
   "source": [
    "(join_shipmodes_revenue\n",
    " .with_column(\n",
    "     'TOTALS',\n",
    "     F.array_construct(F.col('TOTAL_REVENUE_1997'), F.col('TOTAL_REVENUE_1998'))\n",
    " )\n",
    " .with_column(\n",
    "     'COMMENT',\n",
    "     F.concat(F.lit('Logic was created by '), F.current_user())\n",
    " )\n",
    " .show()\n",
    ")"
   ]
  },
  {
   "cell_type": "markdown",
   "id": "11559955-a4c6-4afa-8464-8280a8a3b7ef",
   "metadata": {},
   "source": [
    "## Create conditional logic (IF/THEN) using WHEN/OTHERWISE"
   ]
  },
  {
   "cell_type": "code",
   "execution_count": 249,
   "id": "e1a13694-4f02-4286-b130-c644054984a4",
   "metadata": {
    "tags": []
   },
   "outputs": [
    {
     "name": "stdout",
     "output_type": "stream",
     "text": [
      "-----------------------------------------------------------------------------------------------------------------------------------\n",
      "|\"L_SHIPMODE\"  |\"TOTAL_REVENUE_1997\"  |\"TOTAL_REVENUE_1998\"  |\"TOTALS\"              |\"COMMENT\"                    |\"TRUST_LEVEL\"  |\n",
      "-----------------------------------------------------------------------------------------------------------------------------------\n",
      "|AIR           |-34048584858.305300   |-25725641625.386000   |[                     |Logic was created by PSTYLS  |0.9            |\n",
      "|              |                      |                      |  -34048584858.3053,  |                             |               |\n",
      "|              |                      |                      |  -25725641625.386    |                             |               |\n",
      "|              |                      |                      |]                     |                             |               |\n",
      "|MAIL          |-33969888960.370700   |-25514188715.499700   |[                     |Logic was created by PSTYLS  |999.0          |\n",
      "|              |                      |                      |  -33969888960.3707,  |                             |               |\n",
      "|              |                      |                      |  -25514188715.4997   |                             |               |\n",
      "|              |                      |                      |]                     |                             |               |\n",
      "|SHIP          |-34025174530.819000   |-25565441916.584500   |[                     |Logic was created by PSTYLS  |999.0          |\n",
      "|              |                      |                      |  -34025174530.819,   |                             |               |\n",
      "|              |                      |                      |  -25565441916.5845   |                             |               |\n",
      "|              |                      |                      |]                     |                             |               |\n",
      "|RAIL          |-34104351362.659000   |-25534756190.430000   |[                     |Logic was created by PSTYLS  |999.0          |\n",
      "|              |                      |                      |  -34104351362.659,   |                             |               |\n",
      "|              |                      |                      |  -25534756190.43     |                             |               |\n",
      "|              |                      |                      |]                     |                             |               |\n",
      "|TRUCK         |-33997986770.683300   |-25589978955.784000   |[                     |Logic was created by PSTYLS  |999.0          |\n",
      "|              |                      |                      |  -33997986770.6833,  |                             |               |\n",
      "|              |                      |                      |  -25589978955.784    |                             |               |\n",
      "|              |                      |                      |]                     |                             |               |\n",
      "|FOB           |-33792875137.023700   |-25502466911.912000   |[                     |Logic was created by PSTYLS  |999.0          |\n",
      "|              |                      |                      |  -33792875137.0237,  |                             |               |\n",
      "|              |                      |                      |  -25502466911.912    |                             |               |\n",
      "|              |                      |                      |]                     |                             |               |\n",
      "|REG AIR       |-33883815844.822900   |-25490428550.808400   |[                     |Logic was created by PSTYLS  |0.4            |\n",
      "|              |                      |                      |  -33883815844.8229,  |                             |               |\n",
      "|              |                      |                      |  -25490428550.8084   |                             |               |\n",
      "|              |                      |                      |]                     |                             |               |\n",
      "-----------------------------------------------------------------------------------------------------------------------------------\n",
      "\n"
     ]
    }
   ],
   "source": [
    "(join_shipmodes_revenue\n",
    " .with_column(\n",
    "     'TOTALS',\n",
    "     F.array_construct(F.col('TOTAL_REVENUE_1997'), F.col('TOTAL_REVENUE_1998'))\n",
    " )\n",
    " .with_column(\n",
    "     'COMMENT',\n",
    "     F.concat(F.lit('Logic was created by '), F.current_user())\n",
    " )\n",
    " .with_column(\n",
    "     'TRUST_LEVEL',\n",
    "     F.when(F.col('L_SHIPMODE') == 'REG AIR', 0.4)\n",
    "      .when(F.col('L_SHIPMODE') == 'AIR', .9)\n",
    "      .otherwise(999)\n",
    " )\n",
    " .show()\n",
    ")"
   ]
  },
  {
   "cell_type": "markdown",
   "id": "4039678d-58fc-424d-aa3f-c49b8d7b12a6",
   "metadata": {},
   "source": [
    "## Drop columns"
   ]
  },
  {
   "cell_type": "code",
   "execution_count": 250,
   "id": "e11aa158-4845-4b6f-9f1b-8a86e064a340",
   "metadata": {
    "tags": []
   },
   "outputs": [
    {
     "name": "stdout",
     "output_type": "stream",
     "text": [
      "-------------------------------------------------------------------------------------\n",
      "|\"L_SHIPMODE\"  |\"TOTALS\"              |\"COMMENT\"                    |\"TRUST_LEVEL\"  |\n",
      "-------------------------------------------------------------------------------------\n",
      "|TRUCK         |[                     |Logic was created by PSTYLS  |999.0          |\n",
      "|              |  -33997986770.6833,  |                             |               |\n",
      "|              |  -25589978955.784    |                             |               |\n",
      "|              |]                     |                             |               |\n",
      "|FOB           |[                     |Logic was created by PSTYLS  |999.0          |\n",
      "|              |  -33792875137.0237,  |                             |               |\n",
      "|              |  -25502466911.912    |                             |               |\n",
      "|              |]                     |                             |               |\n",
      "|AIR           |[                     |Logic was created by PSTYLS  |0.9            |\n",
      "|              |  -34048584858.3053,  |                             |               |\n",
      "|              |  -25725641625.386    |                             |               |\n",
      "|              |]                     |                             |               |\n",
      "|RAIL          |[                     |Logic was created by PSTYLS  |999.0          |\n",
      "|              |  -34104351362.659,   |                             |               |\n",
      "|              |  -25534756190.43     |                             |               |\n",
      "|              |]                     |                             |               |\n",
      "|MAIL          |[                     |Logic was created by PSTYLS  |999.0          |\n",
      "|              |  -33969888960.3707,  |                             |               |\n",
      "|              |  -25514188715.4997   |                             |               |\n",
      "|              |]                     |                             |               |\n",
      "|SHIP          |[                     |Logic was created by PSTYLS  |999.0          |\n",
      "|              |  -34025174530.819,   |                             |               |\n",
      "|              |  -25565441916.5845   |                             |               |\n",
      "|              |]                     |                             |               |\n",
      "|REG AIR       |[                     |Logic was created by PSTYLS  |0.4            |\n",
      "|              |  -33883815844.8229,  |                             |               |\n",
      "|              |  -25490428550.8084   |                             |               |\n",
      "|              |]                     |                             |               |\n",
      "-------------------------------------------------------------------------------------\n",
      "\n"
     ]
    }
   ],
   "source": [
    "(join_shipmodes_revenue\n",
    " .with_column(\n",
    "     'TOTALS',\n",
    "     F.array_construct(F.col('TOTAL_REVENUE_1997'), F.col('TOTAL_REVENUE_1998'))\n",
    " )\n",
    " .with_column(\n",
    "     'COMMENT',\n",
    "     F.concat(F.lit('Logic was created by '), F.current_user())\n",
    " )\n",
    " .with_column(\n",
    "     'TRUST_LEVEL',\n",
    "     F.when(F.col('L_SHIPMODE') == 'REG AIR', 0.4)\n",
    "      .when(F.col('L_SHIPMODE') == 'AIR', .9)\n",
    "      .otherwise(999)\n",
    " )\n",
    " .drop(['TOTAL_REVENUE_1997', 'TOTAL_REVENUE_1998'])\n",
    " .show()\n",
    ")"
   ]
  },
  {
   "cell_type": "markdown",
   "id": "566680fa-48ed-4532-9459-40cdfebc08f3",
   "metadata": {},
   "source": [
    "## Close Session"
   ]
  },
  {
   "cell_type": "code",
   "execution_count": 251,
   "id": "1799afa0-2444-4103-85aa-c286084ad193",
   "metadata": {
    "tags": []
   },
   "outputs": [],
   "source": [
    "session.close()"
   ]
  },
  {
   "cell_type": "markdown",
   "id": "25df0d74-0495-4613-99f7-7e278d57a70a",
   "metadata": {},
   "source": [
    " "
   ]
  }
 ],
 "metadata": {
  "kernelspec": {
   "display_name": "Python 3 (ipykernel)",
   "language": "python",
   "name": "python3"
  },
  "language_info": {
   "codemirror_mode": {
    "name": "ipython",
    "version": 3
   },
   "file_extension": ".py",
   "mimetype": "text/x-python",
   "name": "python",
   "nbconvert_exporter": "python",
   "pygments_lexer": "ipython3",
   "version": "3.8.16"
  }
 },
 "nbformat": 4,
 "nbformat_minor": 5
}
